{
 "cells": [
  {
   "cell_type": "markdown",
   "metadata": {},
   "source": [
    "<p style=\"color:white; background:#07D; padding:12px; font-size:20px; font-style:italic; text-align:center\">\n",
    "<span style=\"width:49%; display:inline-block; text-align:left\">Christophe Schlick</span>\n",
    "<span style=\"width:49%; display:inline-block; text-align:right\">schlick[at]u-bordeaux.fr</span>\n",
    "<span style=\"font-size:40px; font-style:normal\"><b>GENERATION DE TRACÉS</b></span><br>\n",
    "<span style=\"width:49%; display:inline-block; text-align:left\">Version 2023-01</span>\n",
    "<span style=\"width:49%; display:inline-block; text-align:right\">Licence CC-BY-NC-ND</span></p>"
   ]
  },
  {
   "cell_type": "markdown",
   "metadata": {},
   "source": [
    "L'objectif de cette feuille d'exercices est d'illustrer le principe de ***génération de tracés par algorithmes***. Dans le vocabulaire lié à l'imagerie numérique, un **tracé** est une image créée par un ensemble de commandes graphiques permettant de décrire une image par le biais d'un langage de description.\n",
    "On ne va donc pas définir l'image pixel par pixel (comme on l'a fait dans la feuille d'exercices A) mais fournir des informations de plus haut niveau permettant à un interpréteur de construire l'image en fonction de la liste des commandes. Pour ce type de construction, on utilise également le terme d'***image vectorielle*** par opposition à ***image matricielle*** (= la grille de pixels), mais le terme **tracé** (**draw** en anglais) s'impose de plus en plus, depuis quelques années.\n",
    "\n",
    "L'ensemble des exercices vont mettre en oeuvre l'utilisation du langage Python pour générer ces tracés via l'écriture de code au format **SVG** (***Scalable Vector Graphics***). Nous verrons les éléments nécessaires du format **SVG** au fur et à mesure des exercices, mais un petit détour par un [**tutoriel SVG**](https://developer.mozilla.org/fr/docs/Web/SVG/Tutorial) qui détaille plus longuement les notions abordées peut s'avérer très utile.\n",
    "\n",
    "---\n",
    "Dans le notebook **03-IPython.ipynb**, nous avons vu le principe qui sera mis en oeuvre dans cette feuille d'exercices :\n",
    "\n",
    "- On crée une chaîne de caractères multi-lignes contenant le code SVG du tracé à construire\n",
    "- On affiche le tracé correspondant via la fonction **`dp.SVG`** du module **`IPython.display`**\n",
    "\n",
    "Voici un rappel de l'exemple SVG présenté dans le notebook sur IPython :"
   ]
  },
  {
   "cell_type": "code",
   "execution_count": 1,
   "metadata": {},
   "outputs": [],
   "source": [
    "import numpy as np # import du package 'numpy' avec alias 'np'\n",
    "import IPython.display as dp # import du package 'Ipython.display' avec alias 'dp'"
   ]
  },
  {
   "cell_type": "code",
   "execution_count": 2,
   "metadata": {
    "tags": []
   },
   "outputs": [
    {
     "data": {
      "image/svg+xml": [
       "<svg viewBox=\"0 0 800 240\">\n",
       "  <g fill=\"#EEE\" stroke=\"#000\" stroke-width=\"2\">\n",
       "    <rect x=\"25\" y=\"25\" width=\"700\" height=\"200\" rx=\"25\" stroke-width=\"4\"/>\n",
       "    <ellipse cx=\"100\" cy=\"125\" rx=\"50\" ry=\"75\" fill=\"#F00\"/>\n",
       "    <ellipse cx=\"210\" cy=\"125\" rx=\"50\" ry=\"75\" fill=\"#0F0\"/>\n",
       "    <ellipse cx=\"320\" cy=\"125\" rx=\"50\" ry=\"75\" fill=\"#00F\"/>\n",
       "    <ellipse cx=\"430\" cy=\"125\" rx=\"50\" ry=\"75\" fill=\"#0FF\"/>\n",
       "    <ellipse cx=\"540\" cy=\"125\" rx=\"50\" ry=\"75\" fill=\"#F0F\"/>\n",
       "    <ellipse cx=\"650\" cy=\"125\" rx=\"50\" ry=\"75\" fill=\"#FF0\"/>\n",
       "  </g>\n",
       "</svg>"
      ],
      "text/plain": [
       "<IPython.core.display.SVG object>"
      ]
     },
     "execution_count": 2,
     "metadata": {},
     "output_type": "execute_result"
    }
   ],
   "source": [
    "# On crée une chaîne de caractères multi-lignes contenant du code SVG\n",
    "code = r\"\"\"\n",
    "<svg viewBox='0 0 800 240'>\n",
    "  <g fill='#EEE' stroke='#000' stroke-width='2'>\n",
    "    <rect x='25' y='25' width='700' height='200' rx='25' stroke-width='4'/>\n",
    "    <ellipse cx='100' cy='125' rx='50' ry='75' fill='#F00'/>\n",
    "    <ellipse cx='210' cy='125' rx='50' ry='75' fill='#0F0'/>\n",
    "    <ellipse cx='320' cy='125' rx='50' ry='75' fill='#00F'/>\n",
    "    <ellipse cx='430' cy='125' rx='50' ry='75' fill='#0FF'/>\n",
    "    <ellipse cx='540' cy='125' rx='50' ry='75' fill='#F0F'/>\n",
    "    <ellipse cx='650' cy='125' rx='50' ry='75' fill='#FF0'/>\n",
    "  </g>\n",
    "</svg>\n",
    "\"\"\"\n",
    "dp.SVG(code) # on affiche le tracé correspondant au code SVG via la fonction 'dp.SVG'"
   ]
  },
  {
   "cell_type": "markdown",
   "metadata": {
    "tags": []
   },
   "source": [
    "<h2 style=\"padding:16px; color:white; background:#07D\">Exercice B1 - Utilisation des formes de base</h2>\n",
    "\n",
    "Ecrire les instructions Python/SVG permettant de générer les 12 images de la figure ci-dessous. Chaque image individuelle devra utiliser la balise SVG suivante, pour obtenir un tracé initial de taille 240 sur 240 (mais évidemment, comme c'est un tracé, on pourra le redimensionner de manière arbitraire) :\n",
    "\n",
    "**```<svg viewBox='0 0 240 240' width='240'>```**\n",
    "\n",
    "Vous aurez besoin des balises SVG suivantes (à vous de trouver leur rôle et ceux de leurs paramètres) :\n",
    "\n",
    "- **`<rect x=... y=... width=... height=... fill=... />`**\n",
    "- **`<circle cx=... cy=... r=... fill=... />`**\n",
    "\n",
    "![](IMG/shapes.png 'shapes.png')"
   ]
  },
  {
   "cell_type": "code",
   "execution_count": 3,
   "metadata": {},
   "outputs": [],
   "source": [
    "svg = lambda code: f\"<svg viewBox='0 0 240 240' width='240'> {''.join(code)} \\n</svg>\"\n",
    "\n",
    "code = ['TODO'] # le code à produire sous forme de liste de chaînes de caractères\n",
    "\n",
    "#print(svg(code)) # enlever le commentaire pour voir le code SVG généré\n",
    "#dp.SVG(svg(code)) # enlever le commentaire pour afficher le tracé au format SVG"
   ]
  },
  {
   "cell_type": "markdown",
   "metadata": {
    "tags": []
   },
   "source": [
    "<h2 style=\"padding:16px; color:white; background:#07D\">Exercice B2 - Génération de dégradés et de motifs</h2>\n",
    "\n",
    "A suivre..."
   ]
  },
  {
   "cell_type": "code",
   "execution_count": 9,
   "metadata": {},
   "outputs": [],
   "source": [
    "# TODO"
   ]
  },
  {
   "cell_type": "markdown",
   "metadata": {
    "tags": []
   },
   "source": [
    "<h2 style=\"padding:16px; color:white; background:#07D\">Exercice B3 - Pixel Art</h2>\n",
    "\n",
    "A suivre..."
   ]
  },
  {
   "cell_type": "code",
   "execution_count": 10,
   "metadata": {},
   "outputs": [],
   "source": [
    "# TODO"
   ]
  },
  {
   "cell_type": "markdown",
   "metadata": {},
   "source": [
    "---"
   ]
  }
 ],
 "metadata": {
  "kernelspec": {
   "display_name": "Python 3 (ipykernel)",
   "language": "python",
   "name": "python3"
  },
  "language_info": {
   "codemirror_mode": {
    "name": "ipython",
    "version": 3
   },
   "file_extension": ".py",
   "mimetype": "text/x-python",
   "name": "python",
   "nbconvert_exporter": "python",
   "pygments_lexer": "ipython3",
   "version": "3.9.15"
  }
 },
 "nbformat": 4,
 "nbformat_minor": 4
}
