{
 "cells": [
  {
   "cell_type": "markdown",
   "metadata": {},
   "source": [
    "<p style=\"color:white; background:#07D; padding:12px; font-size:20px; font-style:italic; text-align:center\">\n",
    "<span style=\"width:49%; display:inline-block; text-align:left\">Christophe Schlick</span>\n",
    "<span style=\"width:49%; display:inline-block; text-align:right\">schlick[at]u-bordeaux.fr</span>\n",
    "<span style=\"font-size:40px; font-style:normal\"><b>TRANSFORMATION D'IMAGES</b></span><br>\n",
    "<span style=\"width:49%; display:inline-block; text-align:left\">Version 2023-01</span>\n",
    "<span style=\"width:49%; display:inline-block; text-align:right\">Licence CC-BY-NC-ND</span></p>"
   ]
  },
  {
   "cell_type": "markdown",
   "metadata": {},
   "source": [
    "L'objectif de cette feuille d'exercices est d'illustrer le principe de la ***transformation d'images par algorithmes***. Les algorithmes de **génération** (présentés dans la feuille d'exercices A) permettent de créer une image en fonction d'un ensemble de paramètres numériques fournis par l'utilisateur, et destinés à contrôler le processus de création. A l'inverse, les algorithmes de **transformation** (présentés dans ce notebook) doivent impérativement partir d'une image existante qui servira de base pour la création de la nouvelle image. Il existe aujourd'hui un très grand catalogue d'algorithmes de transformations d'images permettant d'obtenir des effets visuels extrêmement variés, mais toutes ces techniques peuvent être classés en trois catégories principales :\n",
    "\n",
    "- **Transformations géométriques :** La transformation appliquée à un pixel ne dépend que de sa position\n",
    "- **Transformations optiques :** La transformation appliquée à un pixel ne dépend que de sa couleur\n",
    "- **Transformations par filtre :** La transformation appliquée à un pixel dépend de sa position, de sa couleur, ainsi que des positions et des couleurs des pixels de son voisinage\n",
    "\n",
    "---\n",
    "Le package **numpy** pourrait évidemment être largement suffisant pour réaliser toutes les transformations d'images abordées dans cette feuille d'exercices. Néanmoins, le package **Pillow** fournit des outils de plus haut niveau, ce qui va grandement simplifier la plupart des opérations à mettre en oeuvre. Avant de commencer cette feuille d'exercices, il est donc fortement recommandé de relire le notebook **06-Pillow.ipynb** qui contient les éléments de cours correspondants."
   ]
  },
  {
   "cell_type": "code",
   "execution_count": 1,
   "metadata": {},
   "outputs": [],
   "source": [
    "import numpy as np # import du package 'numpy' avec alias 'np'\n",
    "import PIL.Image as pim # import du module 'Image' du package 'Pillow' avec alias 'pim'\n",
    "import PIL.ImageOps as pio # idem avec module 'ImageOps'\n",
    "import PIL.ImageChops as pic # idem avec module 'ImageChops'\n",
    "import PIL.ImageFilter as pif # idem avec module 'ImageFilter'\n",
    "import PIL.ImageDraw as pid # idem avec module 'ImageDraw'\n",
    "from SRC.tools import show, view # import de deux fonctions du module 'tools'\n",
    "import warnings; warnings.filterwarnings('ignore') # on ignore les 'warnings'"
   ]
  },
  {
   "cell_type": "markdown",
   "metadata": {
    "tags": []
   },
   "source": [
    "<h2 style=\"padding:16px; color:white; background:#07D\">Exercice C1 - Transformations géométriques</b></h2>\n",
    "\n",
    "Ecrire les instructions Python permettant de générer les 8 images de la figure ci-dessous. Chaque image individuelle est obtenue en appliquant une transformation géométrique sur l'image du [**tigre**](IMG/tiger.jpg) utilisée dans le chapitre 6 du cours (la zone noire visible sur certaines images correspond à la taille initiale de l'image, soit 640x480 pixels). Les transformations mises en oeuvre pour les 8 images (de gauche à droite et de haut en bas) sont les suivantes :\n",
    "\n",
    "- double symétrie (verticale et horizontale)\n",
    "- contraction horizontale à 50%\n",
    "- contraction uniforme à 50%\n",
    "- dilatation uniforme à 1600% (+ recadrage autour de l'oeil droit du tigre)\n",
    "- rotation de 15° (sans modification de la taille de l'image finale)\n",
    "- rotation de 15° (avec ajustement de la taille de l'image finale)\n",
    "- cisaillement horizontal\n",
    "- déformation projective\n",
    "\n",
    "Vous aurez besoin des méthodes suivantes, définies pour la classe **`pim.Image`** utilisée par **Pillow** (à vous de trouver le rôle de chaque méthode et celui de leurs paramètres) :\n",
    "\n",
    "- **`img.transpose(method)`**\n",
    "- **`img.resize(size, method)`**\n",
    "- **`img.crop(box)`**\n",
    "- **`img.rotate(angle, expand)`**\n",
    "- **`img.transform(size, method, data)`**\n",
    "\n",
    "![](IMG/transfo_geo.png 'transfo_geo.png')"
   ]
  },
  {
   "cell_type": "code",
   "execution_count": null,
   "metadata": {
    "collapsed": false,
    "jupyter": {
     "outputs_hidden": false
    }
   },
   "outputs": [],
   "source": [
    "tiger = pim.open('IMG/tiger.jpg') # lecture du fichier 'tiger.jpg' (mode = 'RGB')\n",
    "img = tiger.copy() # création d'une copie de travail à partir de 'tiger'\n",
    "# TODO\n",
    "view(img) # affichage de l'image finale"
   ]
  },
  {
   "cell_type": "markdown",
   "metadata": {
    "tags": []
   },
   "source": [
    "<h2 style=\"padding:16px; color:white; background:#07D\">Exercice C2 - Découpages et collages</b></h2>\n",
    "\n",
    "Ecrire les instructions Python permettant de générer les 8 images de la figure ci-dessous. Chaque image individuelle est obtenue en appliquant une transformation géométrique, de type découpage et/ou collage, sur les images du [**tigre**](IMG/tiger.jpg) et du [**smiley**](IMG/smiley.png). Les transformations mises en oeuvre pour les images (de gauche à droite et de haut en bas) sont les suivantes :\n",
    "\n",
    "- collage périodique d'un rectangle noir\n",
    "- extraction de la partie gauche de l'image, puis collage avec symétrie horizontale\n",
    "- extraction de la tête du tigre, puis collage périodique horizontal et vertical\n",
    "- collages multiples avec redimensionnement et rotation\n",
    "- découpage de l'image en 12 blocs de 160x160 pixels, puis collage avec permutation aléatoire des blocs\n",
    "- incrustation d'un smiley au niveau de l'oeil droit du tigre\n",
    "- incrustation de 25 smileys avec des positions aléatoires sur l'image\n",
    "- incrustation de 12 smileys, avec des positions aléatoires dans des blocs de 160x160 pixels \n",
    "\n",
    "En plus des méthodes de l'exercice C1, vous aurez besoin des méthodes suivantes :\n",
    "\n",
    "- **`img.new(mode, size, color)`**\n",
    "- **`img.paste(image, coords)`**\n",
    "\n",
    "![](IMG/collages.png 'collages.png')"
   ]
  },
  {
   "cell_type": "code",
   "execution_count": null,
   "metadata": {
    "collapsed": false,
    "jupyter": {
     "outputs_hidden": false
    }
   },
   "outputs": [],
   "source": [
    "tiger = pim.open('IMG/tiger.jpg') # lecture du fichier 'tiger.jpg' (mode = 'RGB')\n",
    "img = tiger.copy() # création d'une copie de travail à partir de 'tiger'\n",
    "# TODO\n",
    "view(img) # affichage de l'image finale"
   ]
  },
  {
   "cell_type": "markdown",
   "metadata": {
    "tags": []
   },
   "source": [
    "<h2 style=\"padding:16px; color:white; background:#07D\">Exercice C3 - Transformations optiques</b></h2>\n",
    "\n",
    "Ecrire les instructions Python permettant de générer les 8 images de la figure ci-dessous. Chaque image individuelle est obtenue en appliquant une transformation optique (sur les canaux R/G/B) sur l'image du [**tigre**](IMG/tiger.jpg) utilisée dans le chapitre 6 du cours. En plus des méthodes de l'exercice C1, vous aurez besoin des méthodes suivantes :\n",
    "\n",
    "Ecrire les instructions Python permettant de générer les 8 images de la figure ci-dessous. Chaque image individuelle est obtenue en appliquant une transformation géométrique, de type découpage et/ou collage, sur les images du [**tigre**](IMG/tiger.jpg) et du [**smiley**](IMG/smiley.png) utilisées dans le chapitre 6 du cours. Les transformations mises en oeuvre pour les 8 images (de gauche à droite et de haut en bas) sont les suivantes :\n",
    "\n",
    "- échange des canaux R et B\n",
    "- combinaison linéaire des canaux RGB : $R' = 0.6R + 0.4G\\;, G' = 0.2R + 0.8B\\;, B' = B$\n",
    "- combinaison barycentrique des canaux RGB : $L = 0.299R + 0.587G + 0.114B$\n",
    "- inversion de l'image de luminance\n",
    "- binarisation des valeurs de luminance\n",
    "- binarisation des valeurs RGB\n",
    "- quantification de la luminance sur 5 niveaux\n",
    "- ajout de bruit puis quantification des valeurs RGB sur 3 niveaux\n",
    "- assombrissement de l'image RGB\n",
    "- éclaircissement de l'image de luminance\n",
    "- augmentation du contraste de l'image RGB\n",
    "- diminution du contraste de l'image de luminance\n",
    "\n",
    "Toutes les transformations demandées peuvent s'effectuer en manipulant les images sous forme de matrice **numpy**\n",
    "\n",
    "![](IMG/transfo_opt.png 'transfo_opt.png')"
   ]
  },
  {
   "cell_type": "code",
   "execution_count": null,
   "metadata": {
    "collapsed": false,
    "jupyter": {
     "outputs_hidden": false
    }
   },
   "outputs": [],
   "source": [
    "tiger = pim.open('IMG/tiger.jpg') # lecture du fichier 'tiger.jpg' (mode = 'RGB')\n",
    "img = tiger.copy() # création d'une copie de travail à partir de 'tiger'\n",
    "# TODO\n",
    "view(img) # affichage de l'image finale"
   ]
  },
  {
   "cell_type": "code",
   "execution_count": 56,
   "metadata": {},
   "outputs": [],
   "source": [
    "# définition des deux versions de 'gain' (augmentation ou diminution de luminance)\n",
    "expo_gain = lambda t,p: t**((1-p)/(1+p))\n",
    "ratio_gain = lambda t,p: (t+p*t)/(1-p+2*p*t)\n",
    "\n",
    "# définition des deux versions de 'bias' (augmentation ou diminution de contraste)\n",
    "expo_bias = lambda t,p: np.where(t < 0.5, 0.5*(2*t)**((1+p)/(1-p)), 1-0.5*(2-2*t)**((1+p)/(1-p)))\n",
    "ratio_bias = lambda t,p: np.where(t < 0.5, (t-p*t)/(1+p-4*p*t), (t-2*p+3*p*t)/(1-3*p+4*p*t))\n",
    "\n",
    "# note : le tracé des 4 fonctions pour différentes valeurs de 'p' se trouve sur la figure ci-dessous"
   ]
  },
  {
   "cell_type": "markdown",
   "metadata": {},
   "source": [
    "<center><img src='IMG/gain_bias.png' width='90%'></center>"
   ]
  },
  {
   "cell_type": "markdown",
   "metadata": {
    "tags": []
   },
   "source": [
    "<h2 style=\"padding:16px; color:white; background:#07D\">Exercice C4 - Filtres et convolutions</b></h2>\n",
    "\n",
    "Ecrire les instructions Python permettant de générer les 8 images de la figure ci-dessous. Chaque image individuelle est obtenue en appliquant un filtre ou un noyau de convolution sur l'image du tigre. Selon les transformations à générer, on pourra utiliser soit les fonctions de **Pillow**, soit les fonctions de **numpy**. Les transformations mises en oeuvre pour les 8 images (de gauche à droite et de haut en bas) sont les suivantes :\n",
    "\n",
    "- conservation d'un seul canal de couleur (R en haut, G au milieu, B en bas)\n",
    "- coloration de l'image de luminance avec dégradé bleu vers orange\n",
    "- pixelisation de l'image (blocs de 16x16 pixels)\n",
    "- application d'un masque circulaire sur l'image\n",
    "- test de quelques filtres prédéfinis (par exemple, rehaussement des contours)\n",
    "- application d'un flou gaussien sur les yeux du tigre\n",
    "- utilisation d'une combinaison de filtres (\n",
    "\n",
    "![](IMG/filtres.png 'filtres.png')"
   ]
  },
  {
   "cell_type": "code",
   "execution_count": null,
   "metadata": {
    "collapsed": false,
    "jupyter": {
     "outputs_hidden": false
    }
   },
   "outputs": [],
   "source": [
    "tiger = pim.open('IMG/tiger.jpg') # lecture du fichier 'tiger.jpg' (mode = 'RGB')\n",
    "img = tiger.copy() # création d'une copie de travail à partir de 'tiger'\n",
    "# TODO\n",
    "view(img) # affichage de l'image finale"
   ]
  },
  {
   "cell_type": "markdown",
   "metadata": {},
   "source": [
    "---"
   ]
  }
 ],
 "metadata": {
  "kernelspec": {
   "display_name": "Python 3 (ipykernel)",
   "language": "python",
   "name": "python3"
  },
  "language_info": {
   "codemirror_mode": {
    "name": "ipython",
    "version": 3
   },
   "file_extension": ".py",
   "mimetype": "text/x-python",
   "name": "python",
   "nbconvert_exporter": "python",
   "pygments_lexer": "ipython3",
   "version": "3.9.6"
  }
 },
 "nbformat": 4,
 "nbformat_minor": 4
}
