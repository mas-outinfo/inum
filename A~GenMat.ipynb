{
 "cells": [
  {
   "cell_type": "markdown",
   "metadata": {},
   "source": [
    "<p style=\"color:white; background:#07D; padding:12px; font-size:20px; font-style:italic; text-align:center\">\n",
    "<span style=\"width:49%; display:inline-block; text-align:left\">Christophe Schlick</span>\n",
    "<span style=\"width:49%; display:inline-block; text-align:right\">schlick[at]u-bordeaux.fr</span>\n",
    "<span style=\"font-size:40px; font-style:normal\"><b>GENERATION D'IMAGES</b></span><br>\n",
    "<span style=\"width:49%; display:inline-block; text-align:left\">Version 2023-01</span>\n",
    "<span style=\"width:49%; display:inline-block; text-align:right\">Licence CC-BY-NC-ND</span></p>"
   ]
  },
  {
   "cell_type": "markdown",
   "metadata": {},
   "source": [
    "L'objectif de cette feuille d'exercices est d'illustrer le principe de ***génération d'images par algorithmes***. L'ensemble des exercices vont mettre en oeuvre les fonctionnalités fournies par le package **`numpy`**, basées sur l'utilisation du conteneur **`array`** et des fonctions universelles pour manipuler les données stockées dans ce conteneur. Avant de commencer cette feuille d'exercices, il est donc fortement recommandé de relire le notebook **04-Numpy.ipynb** qui contient les éléments de cours correspondants.\n",
    "\n",
    "> **Remarque importante :** Pour bénéficier du gain de vitesse fourni par le mécanisme de **vectorisation** qu'offrent les fonctions universelles, il est primordial de raisonner uniquement en manipulations globales des vecteurs et des matrices, et ceci pour l'ensemble des traitements à effectuer. Par conséquent ***aucune boucle **`for`** ou **`while`** ne devra être utilisée dans aucun des exercices de cette feuille !***\n",
    "\n",
    "Le package **`numpy`** permet de créer des matrices de dimension quelconque, dont les éléments doivent tous être de même type. Mais dans le cadre de l'imagerie numérique, ***on va exclusivement utiliser 5 formes de matrices*** :\n",
    "\n",
    "- Matrice MxN de booléens = **image binaire** (chaque pixel est défini par un booléen)\n",
    "- Matrice MxN de réels = **image monochrome à valeurs continues** (chaque pixel est défini par un réel)\n",
    "- Matrice MxN d'entiers = **image monochrome à valeurs discrètes** (chaque pixel est défini par un entier)\n",
    "- Matrice MxNx3 de réels = **image polychrome à valeurs continues** (chaque pixel est défini par trois réels)\n",
    "- Matrice MxNx3 d'entiers = **image polychrome à valeurs discrètes** (chaque pixel est défini par trois entiers)\n",
    "\n",
    "---\n",
    "Pour simplifier la vérification du code à écrire dans les exercices, on fournit une fonction **`view`** qui permet d'afficher une matrice **`numpy`** sous la forme d'une image insérée dans le notebook, à condition qu'elle utilise l'une des 5 formes définies ci-dessus. Voici quelques exemple de mise en oeuvre :"
   ]
  },
  {
   "cell_type": "code",
   "execution_count": 1,
   "metadata": {},
   "outputs": [],
   "source": [
    "import numpy as np # import du package 'numpy' avec alias 'np'\n",
    "from SRC.tools import show, view # import de deux fonctions du module 'tools'"
   ]
  },
  {
   "cell_type": "code",
   "execution_count": 2,
   "metadata": {},
   "outputs": [
    {
     "data": {
      "image/png": "[encoded data removed]",
      "text/plain": [
       "<PIL.Image.Image image mode=L size=240x240>"
      ]
     },
     "metadata": {},
     "output_type": "display_data"
    },
    {
     "name": "stdout",
     "output_type": "stream",
     "text": [
      "img.shape ━► (240, 240)\n",
      "img.size ━► 57600\n",
      "img.dtype ━► float64\n",
      "img.nbytes ━► 460800\n",
      "img ━►\n",
      "[[0. 0. 0. ... 0. 0. 0.]\n",
      " [0. 0. 0. ... 0. 0. 0.]\n",
      " [0. 0. 0. ... 0. 0. 0.]\n",
      " ...\n",
      " [0. 0. 0. ... 0. 0. 0.]\n",
      " [0. 0. 0. ... 0. 0. 0.]\n",
      " [0. 0. 0. ... 0. 0. 0.]]\n",
      "\n",
      "img[0,0] ━► 0.0\n",
      "img[0,:5] ━► [0. 0. 0. 0. 0.]\n",
      "img[-1,::20] ━► [0. 0. 0. 0. 0. 0. 0. 0. 0. 0. 0. 0.]\n"
     ]
    }
   ],
   "source": [
    "img = np.zeros((240, 240)) # image monochrome noire (valeurs réelles pour les pixels)\n",
    "#img = np.ones((240, 240)) # image monochrome blanche (valeurs réelles pour les pixels)\n",
    "#img = np.full((240, 240), False) # image binaire noire (valeurs booléennes pour les pixels)\n",
    "#img = np.full((240, 240), 0) # image monochrome noire (valeurs entières pour les pixels)\n",
    "#img = np.full((240, 240), 0.0) # image monochrome noire (valeurs réelles pour les pixels)\n",
    "#img = np.full((240, 240, 3), [0,0,0]) # image polychrome noire (valeurs entières pour les pixels)\n",
    "#img = np.full((240, 240, 3), [1,0,0]) # image polychrome rouge (valeurs entières pour les pixels)\n",
    "#img = np.full((240, 240, 3), [1,0.5,0]) # image polychrome orange (valeurs réelles pour les pixels)\n",
    "#img = np.full((240, 240, 3), [255,0,0]) # image polychrome rouge (valeurs entières pour les pixels)\n",
    "\n",
    "view(img) # affichage de la matrice sous forme d'image\n",
    "show(\"img.shape; img.size; img.dtype; img.nbytes; img#;\") # affichage des attributs de la matrice\n",
    "show(\"img[0,0]; img[0,:5]; img[-1,::20]\") # affichage de pixels ou tranches de pixels"
   ]
  },
  {
   "cell_type": "markdown",
   "metadata": {
    "tags": []
   },
   "source": [
    "<h2 style=\"padding:16px; color:white; background:#07D\">Exercice A1 - Génération d'aplats rectangulaires [grids]</h2>\n",
    "\n",
    "Ecrire les instructions Python permettant de générer les 12 images de la figure ci-dessous. Chaque image individuelle devra avoir une taille de 240 sur 240. Vous aurez besoin des fonctions suivantes fournies par le package **`numpy`** (à vous de trouver leur rôle et ceux de leurs paramètres) :\n",
    "\n",
    "- **`np.indices(size)`**\n",
    "- **`np.repeat(array, repeats, [axis=n])`**\n",
    "- **`np.min(array_or_tuple_of_arrays, [axis=n])`**\n",
    "- **`np.max(array_or_tuple_of_arrays, [axis=n])`**\n",
    "- **`np.random.randint(low, high, size)`**\n",
    "- **`np.random.random(size)`**\n",
    "\n",
    "![](IMG/grids.png 'grids.png')"
   ]
  },
  {
   "cell_type": "code",
   "execution_count": 3,
   "metadata": {},
   "outputs": [
    {
     "data": {
      "image/png": "[encoded data removed]",
      "text/plain": [
       "<PIL.Image.Image image mode=L size=240x240>"
      ]
     },
     "metadata": {},
     "output_type": "display_data"
    },
    {
     "name": "stdout",
     "output_type": "stream",
     "text": [
      "(240, 240) / min = 0.0 / max = 0.0\n"
     ]
    }
   ],
   "source": [
    "# TODO\n",
    "view(img); print(img.shape, '/ min =', img.min(), '/ max =', img.max())"
   ]
  },
  {
   "cell_type": "code",
   "execution_count": 4,
   "metadata": {
    "tags": []
   },
   "outputs": [
    {
     "data": {
      "image/png": "[encoded data removed]",
      "text/plain": [
       "<PIL.Image.Image image mode=L size=240x240>"
      ]
     },
     "metadata": {},
     "output_type": "display_data"
    },
    {
     "name": "stdout",
     "output_type": "stream",
     "text": [
      "(240, 240) / min = 0 / max = 1\n"
     ]
    }
   ],
   "source": [
    "rows, cols = np.indices((240, 240)) # création des matrices d'indices pour une image 240x240\n",
    "\n",
    "# En appliquant un 'modulo 2', les lignes paires deviennent noires (= 0) et les impaires blanches (= 1)\n",
    "img = rows % 2 # pixel-stripes (largeur = 1 pixel)\n",
    "\n",
    "# Pour augmenter l'épaisseur des lignes, on rajoute une division entière sur les indices de lignes\n",
    "#img = rows//6 % 2 # stripes (largeur = 6 pixels)\n",
    "\n",
    "# Pour l'échiquier, le 'modulo 2' s'applique à la somme des indices de lignes et de colonnes\n",
    "#img = (rows + cols) % 2 # pixel-chessboard (taille des cases = 1 pixel)\n",
    "#img = (rows//30 + cols//30) % 2 # chessboard (taille des cases = 30x30 pixels)\n",
    "\n",
    "# Pour les boîtes imbriquées, on calcule la distance minimale de chaque pixel aux bordures N,E,S,W\n",
    "#img = np.min((rows, cols, 239-rows, 239-cols), axis=0) % 2 # pixel-boxes (largeur = 1 pixel)\n",
    "#img = np.min((rows//16, cols//16, 14-rows//16, 14-cols//16), axis=0) % 2 # boxes (largeur = 16 pixels)\n",
    "\n",
    "view(img); print(img.shape, '/ min =', img.min(), '/ max =', img.max())"
   ]
  },
  {
   "cell_type": "code",
   "execution_count": 5,
   "metadata": {},
   "outputs": [
    {
     "data": {
      "image/png": "[encoded data removed]",
      "text/plain": [
       "<PIL.Image.Image image mode=RGB size=240x240>"
      ]
     },
     "metadata": {},
     "output_type": "display_data"
    },
    {
     "name": "stdout",
     "output_type": "stream",
     "text": [
      "(240, 240, 3) / min = 0 / max = 1\n"
     ]
    }
   ],
   "source": [
    "# On définit une palette de couleurs sous la forme d'une matrice à 2 dimensions (6 rows, 3 cols)\n",
    "colors = np.array([[1,0,0], [0,1,0], [0,0,1], [0,1,1], [1,0,1], [1,1,0]]) # colormap = RGBCMY\n",
    "\n",
    "# On utilise les exemples précédents en tant qu'indices dans la palette de couleurs\n",
    "img = colors[rows % 6] # colormap pixel-stripes (largeur = 1 pixel)\n",
    "#img = colors[rows//6 % 6] # colormap stripes (largeur = 6 pixels)\n",
    "#img = colors[(rows + cols) % 6] # colormap pixel-chessboard (taille des cases = 1 pixel)\n",
    "#img = colors[(rows//30 + cols//30) % 6] # colormap chessboard (taille des cases = 30x30 pixels)\n",
    "#img = colors[np.min((rows, cols, 239-rows, 239-cols), axis=0) % 6] # colormap pixel-boxes\n",
    "#img = colors[np.min((rows//16, cols//16, 14-rows//16, 14-cols//16), axis=0) % 6] # colormap boxes\n",
    "\n",
    "view(img); print(img.shape, '/ min =', img.min(), '/ max =', img.max())"
   ]
  },
  {
   "cell_type": "code",
   "execution_count": 6,
   "metadata": {},
   "outputs": [
    {
     "data": {
      "image/png": "[encoded data removed]",
      "text/plain": [
       "<PIL.Image.Image image mode=L size=240x240>"
      ]
     },
     "metadata": {},
     "output_type": "display_data"
    },
    {
     "name": "stdout",
     "output_type": "stream",
     "text": [
      "(240, 240) / min = 0 / max = 1\n"
     ]
    }
   ],
   "source": [
    "# La fonction 'randint' crée une matrice de valeurs aléatoires entières dans l'intervalle [low, high]\n",
    "img = np.random.randint(0, 2, (240,240)) # binary pixel noise\n",
    "\n",
    "# Pour obtenir des aplats de noirs ou blancs, on peut employer l'une des deux techniques suivantes :\n",
    "# version 1 : on crée une matrice aléatoire 40x40 et on s'en sert de palette par blocs de 6x6\n",
    "noise = np.random.randint(0, 2, (40,40)) # on crée une palette \n",
    "#img = noise[rows // 6, cols // 6] # binary tile noise\n",
    "# version 2 : on crée une matrice aléatoire 40x40 et on répète chaque pixel 6x en horizontal et vertical\n",
    "#img = noise.repeat(6, axis=0).repeat(6, axis=1) # binary tile noise\n",
    "\n",
    "# La fonction 'random' crée une matrice de valeurs aléatoires réelles dans l'intervalle [0, 1[\n",
    "#img = np.random.random((240,240)) # grayscale pixel noise\n",
    "#img = np.random.random((40,40)).repeat(6, axis=0).repeat(6, axis=1) # grayscale tile noise\n",
    "\n",
    "# La combinaison de deux images s'effectue le plus souvent par addition ou multiplication des pixels\n",
    "chess = (rows//30 + cols//30) % 2; noise = np.random.random((240,240))\n",
    "#img = 0.6*chess + 0.4*noise # noisy chessboard (additive noise)\n",
    "#img = chess * (0.5 + 0.5*noise) # noisy chessboard (multiplicative noise)\n",
    "\n",
    "view(img); print(img.shape, '/ min =', img.min(), '/ max =', img.max())"
   ]
  },
  {
   "cell_type": "code",
   "execution_count": 7,
   "metadata": {},
   "outputs": [
    {
     "data": {
      "image/png": "[encoded data removed]",
      "text/plain": [
       "<PIL.Image.Image image mode=RGB size=240x240>"
      ]
     },
     "metadata": {},
     "output_type": "display_data"
    },
    {
     "name": "stdout",
     "output_type": "stream",
     "text": [
      "(240, 240, 3) / min = 0 / max = 1\n"
     ]
    }
   ],
   "source": [
    "# Les valeurs aléatoires entières peuvent également être utilisées pour indexer une palette de couleurs\n",
    "img = colors[np.random.randint(0, 6, (240,240))] # colormap pixel noise\n",
    "#img = colors[np.random.randint(0, 6, (40,40)).repeat(6, axis=0).repeat(6, axis=1)] # colormap tile noise\n",
    "\n",
    "# Ou alors, on peut directement générer des valeurs aléatoires indépendamment pour les canaux R, G et B\n",
    "#img = np.random.random((240,240,3)) # color pixel noise\n",
    "#img = np.random.random((40,40,3)).repeat(6,axis=0).repeat(6,axis=1) # color tile noise\n",
    "\n",
    "# En annulant le canal R, on se limite à un bruit de couleurs dans la gamme des bleus-verts\n",
    "#img = np.random.random((240,240,3)); img[:,:,0] = 0 # blue-green pixel noise # alternative: img[...,0]\n",
    "\n",
    "# La combinaison d'images polychromes est similaire à celle des images monochromes\n",
    "colorchess = colors[(rows//30 + cols//30) % 6]; colornoise = np.random.random((240,240,3))\n",
    "#img = 0.5*colorchess + 0.5*colornoise # noisy color chessboard (additive noise)\n",
    "#img = colorchess * (0.2 + 0.8*colornoise) # noisy color chessboard (multiplicative noise)\n",
    "\n",
    "view(img); print(img.shape, '/ min =', img.min(), '/ max =', img.max())"
   ]
  },
  {
   "cell_type": "markdown",
   "metadata": {
    "tags": []
   },
   "source": [
    "<h2 style=\"padding:16px; color:white; background:#07D\">Exercice A2 - Génération de dégradés axiaux [ramps]</h2>\n",
    "\n",
    "Ecrire les instructions Python permettant de générer les images de la figure ci-dessous. En plus de certaines des fonctions de l'exercice précédent, vous aurez également besoin des fonctions suivantes :\n",
    "\n",
    "- **`np.linspace(start, stop, samples)`**\n",
    "- **`np.tile(array, repeats)`**\n",
    "- **`np.divmod(number_or_array, number_or_array)`**\n",
    "- **`np.where(test, true_value, false_value)`**\n",
    "\n",
    "![](IMG/ramps.png 'ramps.png')"
   ]
  },
  {
   "cell_type": "code",
   "execution_count": 8,
   "metadata": {
    "tags": []
   },
   "outputs": [],
   "source": [
    "# TODO\n",
    "#view(img); print(img.shape, '/ min =', img.min(), '/ max =', img.max())"
   ]
  },
  {
   "cell_type": "code",
   "execution_count": 12,
   "metadata": {},
   "outputs": [
    {
     "data": {
      "image/png": "[encoded data removed]",
      "text/plain": [
       "<PIL.Image.Image image mode=L size=240x240>"
      ]
     },
     "metadata": {},
     "output_type": "display_data"
    },
    {
     "name": "stdout",
     "output_type": "stream",
     "text": [
      "(240, 240) / min = 0 / max = 239\n"
     ]
    }
   ],
   "source": [
    "# On peut générer un dégradé linéaire en utilisant directement la matrice des indices de lignes/colonnes\n",
    "# mais cela a l'inconvénient de faire dépendre les intensités des pixels de la dimension de l'image\n",
    "img = cols # left-to-right horizontal ramp\n",
    "#img = rows # top-to-bottom vertical ramp\n",
    "\n",
    "# Pour décorréler la taille de l'image de la variation de l'intensité, on va utiliser la fonction\n",
    "# 'linspace' afin de créer un dégradé sur l'intervalle [0, 1[ (attention à ne pas inclure la valeur 1)\n",
    "ramp = np.linspace(0, 0.999999999, 240) # linear ramp (vector : 240 cols)\n",
    "#print('vector shape =', ramp.shape)\n",
    "\n",
    "# La fonction 'tile' (carrelage) est une généralisation de la fonction 'repeat' qui permet de répéter\n",
    "# une matrice complète et non pas simplement une valeur (ici 240x en vertical et 1x en horizontal)\n",
    "ramp = np.tile(ramp, (240, 1)) # linear ramp (matrix : 240 rows, 240 cols)\n",
    "#print('matrix shape =', ramp.shape)\n",
    "\n",
    "# On peut alors afficher directement le dégradé horizontal\n",
    "#img = ramp  # left-to-right horizontal ramp\n",
    "# ou inverser le sens du dégradé\n",
    "#img = ramp[:,::-1] # right-to-left horizontal ramp\n",
    "# ou alors transposer la matrice (opérateur .T) pour obtenir un dégradé vertical\n",
    "#img = ramp.T # top-to-bottom vertical ramp\n",
    "# ou encore combiner les 2 opérations\n",
    "#img = ramp.T[::-1,:] # bottom-to-top vertical ramp\n",
    "\n",
    "view(img); print(img.shape, '/ min =', img.min(), '/ max =', img.max())"
   ]
  },
  {
   "cell_type": "code",
   "execution_count": 15,
   "metadata": {},
   "outputs": [
    {
     "data": {
      "image/png": "[encoded data removed]",
      "text/plain": [
       "<PIL.Image.Image image mode=L size=240x240>"
      ]
     },
     "metadata": {},
     "output_type": "display_data"
    },
    {
     "name": "stdout",
     "output_type": "stream",
     "text": [
      "(240, 240) / min = 0.0 / max = 0.9999999940000004\n"
     ]
    }
   ],
   "source": [
    "# la solution la plus flexible pour créer des motifs périodiques est d'utiliser l'opérateur 'modulo' :\n",
    "pramp = 6 * ramp % 1 # periodic ramps (6 ramps)\n",
    "img = pramp # horizontal periodic ramps (6 ramps)\n",
    "#img = pramp.T # vertical periodic ramps (6 ramps)\n",
    "\n",
    "# note : si la périodicité s'effectue le long d'un axe de la matrice (vertical ou horizontal), on\n",
    "# peut également utiliser la fonction 'tile' sur une version sous-échantillonné du dégradé :\n",
    "#img = np.tile(ramp.T[::6,:], (6, 1)) # répétition du dégradé sous-échantillonné\n",
    "\n",
    "# par défaut, le dégradé obtenu par 'linspace' est linéaire (comme son nom l'indique)\n",
    "# un moyen classique pour modifier cela est d'appliquer une exponentiation au résultat\n",
    "#img **= 0.4 # on applique un éclaircissement (exponentiation avec puissance < 1)\n",
    "#img **= 2.5 # on applique un assombrissement (exponentiation avec puissance > 1)\n",
    "\n",
    "# pour obtenir des dégradés colorés, il suffit de multiplier l'intensité par une couleur\n",
    "# mais pour cela, il faut rendre les matrices compatibles en rajoutant une troisième dimension\n",
    "# note : la notation 'None' signifie \"cette dimension existe, mais elle est vide\"\n",
    "#img = colors[rows // 40] * img[:,:,None] # vertical color ramps (1 color per ramp)\n",
    "\n",
    "# on peut obtenir des dégradés en diagonal par somme d'un dégradé horizontal et d'un dégradé vertical\n",
    "#img = 3 * (ramp + ramp.T) % 1 # diagonal periodic ramps (6 ramps)\n",
    "\n",
    "# note : ici la fonction 'tile' appliquée au dégradé sous-échantillonné, donne un résultat différent\n",
    "#img = np.tile((ramp + ramp.T)[::6,::6], (6, 6))\n",
    "\n",
    "# comme précédemment, on peut associer une couleur spécifique à chacun des 6 dégradés, pour cela,\n",
    "# la fonction 'divmod' qui calcule simultanément le quotient et le reste d'une division est idéale\n",
    "index, dramp = np.divmod(3 * (ramp + ramp.T), 1) # colormap index + diagonal periodic ramps\n",
    "#img = colors[index.astype(int)] * dramp[:,:,None] ** 0.4 # diagonal color ramps (1 color per ramp)\n",
    "\n",
    "view(img); print(img.shape, '/ min =', img.min(), '/ max =', img.max())"
   ]
  },
  {
   "cell_type": "markdown",
   "metadata": {
    "tags": []
   },
   "source": [
    "<h2 style=\"padding:16px; color:white; background:#07D\">Exercice A3 - Génération de dégradés circulaires [spots]</h2>\n",
    "\n",
    "Ecrire les instructions Python permettant de générer les images de la figure ci-dessous. En plus de certaines des fonctions de l'exercice précédent, vous aurez également besoin des fonctions suivantes :\n",
    "\n",
    "- **`np.meshgrid(samples_for_x, samples_for_y)`**\n",
    "- **`np.clip(array, lower_bound, upper_bound)`**\n",
    "- **`np.hstack(tuple_of_arrays)`** ou **`np.vstack(tuple_of_arrays)`**\n",
    "- **`np.sin(array)`** ou **`np.cos(array)`** ou **`np.atan2(y, x)`**\n",
    "\n",
    "![](IMG/spots.png 'spots.png')"
   ]
  },
  {
   "cell_type": "code",
   "execution_count": 11,
   "metadata": {},
   "outputs": [],
   "source": [
    "# TODO\n",
    "#view(img); print(img.shape, '/ min =', img.min(), '/ max =', img.max())"
   ]
  },
  {
   "cell_type": "markdown",
   "metadata": {},
   "source": [
    "---"
   ]
  }
 ],
 "metadata": {
  "kernelspec": {
   "display_name": "Python 3 (ipykernel)",
   "language": "python",
   "name": "python3"
  },
  "language_info": {
   "codemirror_mode": {
    "name": "ipython",
    "version": 3
   },
   "file_extension": ".py",
   "mimetype": "text/x-python",
   "name": "python",
   "nbconvert_exporter": "python",
   "pygments_lexer": "ipython3",
   "version": "3.9.6"
  }
 },
 "nbformat": 4,
 "nbformat_minor": 4
}
