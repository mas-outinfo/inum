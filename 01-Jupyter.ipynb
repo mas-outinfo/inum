{
 "cells": [
  {
   "cell_type": "markdown",
   "metadata": {},
   "source": [
    "<p style=\"color:#FFF; background:#07D; padding:12px; font-size:20px; font-style:italic; text-align:center\">\n",
    "<span style=\"width:49%; display:inline-block; text-align:left\">Christophe Schlick</span>\n",
    "<span style=\"width:49%; display:inline-block; text-align:right\">schlick[at]u-bordeaux.fr</span>\n",
    "<span style=\"font-size:48px; font-style:normal\"><b>ENVIRONNEMENT : JUPYTER</b></span><br>\n",
    "<span style=\"width:49%; display:inline-block; text-align:left\">Version 2024-09</span>\n",
    "<span style=\"width:49%; display:inline-block; text-align:right\">Licence CC-BY-NC-ND</span></p>"
   ]
  },
  {
   "cell_type": "markdown",
   "metadata": {},
   "source": [
    "[**Jupyter**](https://jupyter.org) est un environnement de développement informatique qui permet de créer des **notebooks**, fichiers hybrides qui mélangent du ***texte***, des ***données*** numériques ou alphanumériques, des ***équations***, des ***images***, des ***vidéos***, des ***liens*** hypertexte et du ***code*** informatique. Le nom de **Jupyter** vient de la concaténation des trois langages de programmation qui étaient initialement disponibles dans cet environnement : [**Julia**](https://julialang.org/), [**Python**](https://python.org/) et [**R**](https://www.r-project.org/). A chaque langage de programmation est associé un **noyau d'exécution** qui sera chargé d'interpréter le code informatique contenu dans le notebook. Le terme anglais **notebook** est parfois traduit par **calepin**, mais dans ce cours on va rester sur le terme originel, comme le font d'ailleurs la quasi-totalité des articles francophones parlant de l'environnement Jupyter."
   ]
  },
  {
   "cell_type": "markdown",
   "metadata": {},
   "source": [
    "L'environnement Jupyter fonctionne selon un mécanisme ***client-serveur*** basé sur le protocole  [**HTTP**](https://fr.wikipedia.org/wiki/Hypertext_Transfer_Protocol) (c'est-à-dire le protocole standard utilisé pour la transmission des pages web). Le **serveur** tourne en arrière-plan sur un poste de travail, et constitue le moteur de l'environnement de développement : c'est lui qui va exécuter les différents noyaux d'exécution et mettre en oeuvre les mécanismes d'accès aux ressources (système d'exploitation, système de fichiers, réseau local ou distant, etc). De son côté, le **client** tourne à l'intérieur d'un navigateur web et fournit une interface clavier-souris permettant à l'utilisateur de créer, éditer et exécuter des notebooks. Il existe aujourd'hui deux applications différentes pour interagir avec un serveur **Jupyter** :\n",
    "\n",
    "> La version **JupyterNotebook** correspond à l'interface initiale de l'environnement. Elle a été développée en 2015, à partir de l'application interactive *IPython* (créé en 2001) qui a elle-même été développée en s'inspirant des interfaces qui existaient dans les logiciels de calculs formels et numériques, tel que [**Maple**](https://fr.maplesoft.com/products/Maple) (créé en 1982), [**Matlab**](https://fr.mathworks.com/products/matlab.html) (créé en 1984) ou  [**Mathematica**](https://www.wolfram.com/mathematica) (créé en 1988)\n",
    "\n",
    "> La version **JupyterLab** correspond à la nouvelle interface de l'environnement, conçue de manière beaucoup plus modulaire et permettant d'inclure facilement des extensions par un mécanisme de plugins. C'est cette interface qui sera utilisée dans ce cours. A la date de rédaction de cette présentation, la version stable la plus récente de l'application est ***JupyterLab 4.2.5*** (version sortie fin août 2024).\n",
    "\n",
    "Il faut bien réaliser que **Jupyter** est le nom du serveur de l'environnement de développement (un processus système qui fonctionne en arrière-plan, de manière quasi-invisible), alors que **JupyterLab** est le nom du client (l'application web manipulée par l'utilisateur). Mais en pratique, les deux termes sont souvent utilisés de manière interchangeable, et seul le contexte de la phrase permet de savoir si on se réfère à l'environnement ou à l'interface.\n",
    "\n",
    "La documentation complète des fonctionnalités offertes par l'application **JupyterLab** se trouve sur le site [**ReadTheDocs**](https://jupyterlab.readthedocs.io/en/stable/index.html), mais une copie locale est directement accessible dans le menu **`Help`** de l'application, sous le titre ***JupyterLab Reference***"
   ]
  },
  {
   "cell_type": "markdown",
   "metadata": {
    "tags": []
   },
   "source": [
    "En plus de la version standard (mono-poste, mono-utilisateur) dont le processus d'installation sera décrit dans la section suivante, il existe également plusieurs versions alternatives de l'environnement Jupyter, pour lesquelles le serveur s'exécute directement en ligne. Ces versions permettent ainsi d'utiliser les interfaces JupyterNotebook ou JupyterLab, ***sans imposer une installation locale sur son poste de travail***, puisque seul l'exécution d'un navigateur web sera nécessaire en local. On peut notamment citer les **solutions gratuites** suivantes :\n",
    "\n",
    "> [**JupyterHub**](https://jupyterhub.readthedocs.io/en/stable) est destiné à être installé sur un ***serveur de réseau local***, et permet de définir des comptes utilisateurs pour s'y connecter depuis n'importe quel poste de ce réseau local.\n",
    "\n",
    "> [**Binder**](https://https://mybinder.org/), développé par une ***communauté open-source*** et hébergé par OVH, fournit un environnement Jupyter en ligne, qui utilise des fichiers stockés sur n'importe quel serveur compatible avec le protocole **[Git](https://fr.wikipedia.org/wiki/Git)** (peut parfois être assez lent au démarrage)\n",
    "\n",
    "> [**Cloud Suite**](https://www.anaconda.com/products/cloud-suite), est un service similaire à Binder, développé par ***Anaconda*** (nécessite la création d'un compte Anaconda)\n",
    "\n",
    "> [**Colab(oraty)**](https://colab.research.google.com), est un service similaire à Binder, développée par ***Google*** (nécessite la création d'un compte Google)\n",
    "\n",
    "> [**Github Codespaces**](https://github.com/features/codespaces), est un service similaire à Binder, développé par ***Microsoft*** (nécessite la création d'un compte GitHub)\n",
    "\n",
    "Plus récemment, de nombreuses plateformes de travail collaboratif sont apparues sur le web, fournissant l'accès à diverses ressources de traitement des données, en échange d'un abonnement mensuel. Le point commun de ces sites est qu'ils sont quasiment tous basés sur un environnement JupyterLab. Parmi les plateformes les plus réputées, on peut citer :\n",
    "\n",
    "> [**DeepNote**](https://deepnote.com) ● [**Kaggle**](https://www.kaggle.com/code) ●\n",
    "  [**NAAS**](https://www.naas.ai) ● [**Datalore**](https://datalore.jetbrains.com) ●\n",
    "  [**Kyso**](https://about.kyso.io) ● [**Datacamp**](https://www.datacamp.com/workspace) ●\n",
    "  [**Gradient**](https://gradient.run) ● [**Domino**](https://www.dominodatalab.com)"
   ]
  },
  {
   "cell_type": "markdown",
   "metadata": {
    "tags": []
   },
   "source": [
    "<h2 style=\"padding:16px; color:#FFF; background:#07D\">A - Installation</h2>\n",
    "\n",
    "La manière la plus simple pour installer l'environnement Jupyter sur un poste individuel est d'utiliser la distribution [**Anaconda**](https://www.anaconda.com/products/distribution) qui fournit un écosystème très fonctionnel pour le développement d'applications et de notebooks à contenu scientifique. La page [**téléchargement**](https://www.anaconda.com/products/distribution#Downloads) du site ***(cliquez sur 'skip registration' pour ne pas avoir à créer un compte)*** fournit des installateurs pour les trois principaux systèmes d'exploitation : **Windows, MacOS, Linux**. La distribution proposée à ce jour inclut la version 3.12 de Python et la version 4.0.11 de JupyterLab. \n",
    "\n",
    "La mise en oeuvre de ces installateurs ne pose pas de difficulté majeure, mais il faut savoir qu'avec ses 1500 paquetages logiciels différents, ***la distribution va occuper près de 5 Go sur le disque dur*** après installation, il est donc judicieux de faire un peu de place si votre disque est trop encombré. Voici quelques uns des paquetages installées par Anaconda, dont les plus importants seront détaillés dans les chapitres à venir de ce cours :\n",
    "\n",
    "<center><img src=\"IMG/anaconda.png\"></center>\n",
    "\n",
    "Le système d'exploitation **ChromeOS** présents sur les ordinateurs de type Chromebook n'est pas directement supporté par Anaconda. Néanmoins, ChromeOS contient un sous-système Linux (activable de manière optionnelle) qui permet l'installation d'Anaconda, comme le montre ce [**tutoriel**](https://mychromebook.fr/installer-anaconda-sur-votre-chromebook).\n",
    "\n",
    "Pour le système d'exploitation Windows, il existe une version compacte de JupyterLab, appelée [**JupyterPortable**](https://www.portabledevapps.net/jupyter-portable.php), dans laquelle tous les fichiers de l'environnement sont regroupés dans un dossier unique qui peut être facilement déplacé, et même stocké sur une clé USB. L'intégralité des packages et des outils disponibles dans Anaconda ne figurent évidemment pas dans cette distribution légère ***(moins de 500 Mo sur disque)***, mais l'environnement installé par défaut, est déjà très complet. L'inconvénient de cette solution est que la mise à jour des versions est beaucoup moins rapide que pour la distribution d'Anaconda : la version proposée à ce jour, regroupe Python 3.9.6 (sorti en juin 2021) et JupyterLab 3.1.0 (sorti en décembre 2022). Néanmoins, pour la quasi-totalité des notebooks utilisés dans le cadre de ce cours, ces version un peu anciennes ne poseront pas de problèmes particuliers.\n",
    "\n",
    "Si vous souhaitez absolument avoir ***la version de JupyterLab à la fois la plus récente et la plus légère possible***, il faut commencer par installer la dernière version de l'[**environnement Python**](https://www.python.org/downloads) pour votre système d'exploitation, puis installer manuellement avec la commande **`pip`**, les différents modules nécessaires à l'utilisation de l'environnement JupyterLab. Les étudiants souhaitant utiliser cette méthode peuvent me contacter directement pour avoir des informations complémentaires sur la mise en oeuvre de ce processus d'installation (ce n'est pas vraiment complexe, mais il y a simplement un certain nombre de commandes à écrire manuellement)"
   ]
  },
  {
   "cell_type": "markdown",
   "metadata": {
    "jp-MarkdownHeadingCollapsed": true,
    "tags": []
   },
   "source": [
    "---\n",
    "### 1 - Démarrage de JupyterLab\n",
    "\n",
    "L'installation de la distribution **Anaconda** va créer plusieurs icones dans le gestionnaire d'applications du poste de travail. Parmi ces applications, il y a notamment :\n",
    "\n",
    "  - **Anaconda Prompt** qui est un classique interpréteur de commandes (`bash` sous MacOS et Linux, `cmd` sous Windows) préconfiguré pour inclure les différents chemins d'accès des packages utilisés par Jupyter.\n",
    "  - **Anaconda Navigator** qui est une application graphique (cf. copie d'écran ci-dessous) permettant de lancer et configurer les différents outils fournis par Anaconda.\n",
    "\n",
    "<center><img src=\"IMG/navigator.png\"></center><br>\n",
    "\n",
    "Deux options sont alors possibles pour démarrer **JupyterLab** :\n",
    "\n",
    "  - soit lancer **Anaconda Navigator** puis cliquer sur ***Launch*** dans la tuile **JupyterLab**\n",
    "  - soit lancer **Anaconda Prompt** puis saisir **`jupyter lab`** au clavier et valider par **<kbd>ENTER</kbd>**\n",
    "\n",
    "La seconde option est largement préférable car elle permet à la fois, un démarrage plus rapide, un impact moindre sur les ressources (CPU et RAM) du poste de travail, et l'accès aux messages d'information et d'erreurs générées par le serveur Jupyter (messages qui ne sont pas directement accessibles via Anaconda Navigator). Il faut noter qu'avec un environnment Linux ou MacOS bien configuré, n'importe quelle fenêtre **Terminal** (exécutant un interpréteur de commandes standard, tels que *bash*, *tcsh*, *ksh* ou autre) permet de lancer la commande **`jupyter lab`**. Par conséquent, avec les dernières versions d'Anaconda, l'application **Anaconda Prompt** ne sera présente que sur Windows.\n",
    "\n",
    "Comme le client **JupyterLab** est une application web, ce processus va automatiquement démarrer un ***navigateur web*** (*Chrome*, *Firefox*, *Safari*, *Edge*, ou autre, en fonction de la configuration courante du gestionnaire d'applications) et afficher une page d'accueil qui constituera l'environnement de travail dans lequel l'utilisateur pourra éditer et exécuter ses notebooks. Cet environnement possède de nombreuses fonctionnalités qui seront détaillées dans les sections B et C de ce chapitre."
   ]
  },
  {
   "cell_type": "markdown",
   "metadata": {
    "tags": []
   },
   "source": [
    "---\n",
    "### 2 - Arrêt de JupyterLab\n",
    "\n",
    "A la fin de la session de travail, il y a également deux options possibles pour arrêter **JupyterLab** :\n",
    "\n",
    "  - soit cliquer sur l'entrée ***Shut Down*** du menu ***File*** dans l'onglet **JupyterLab** de votre navigateur web (une fenêtre popup s'affichera pour demander confirmation de l'arrêt du serveur)\n",
    "  - soit faire un **<kbd>CTRL</kbd> + <kbd>C</kbd>** au clavier dans la fenêtre **Anaconda Prompt** ou **Terminal** qui a permis de lancer **JupyterLab**"
   ]
  },
  {
   "cell_type": "markdown",
   "metadata": {
    "tags": []
   },
   "source": [
    "<h2 style=\"padding:16px; color:#FFF; background:#07D\">B - Description</h2>\n",
    "\n",
    "Le lancement de **JupyterLab** sur un poste individuel va créer un serveur HTTP local à l'adresse `http://localhost:8888/lab` (adresse modifiable si nécessaire) capable de traduire, de manière interactive, des fichiers ***`.ipynb`*** (IPython NoteBook) en fichiers ***`.html`*** (HyperText Markup Language) qui seront affichés par le client tournant sur le navigateur web. Pour la première session de travail après une installation d'Anaconda, la page affichée par défaut par le client, correspond à la copie d'écran ci-dessous (onglet **`File Browser`** à gauche, onglet **`Launcher`** à droite). Pour les sessions de travail ultérieurs, l'environnement se reconfigure automatiquement pour reproduire l'affichage que l'utilisateur avait sur son écran à la fin de la session précédente.\n",
    "\n",
    "<center><img src=\"IMG/launcher.png\"></center><br>\n",
    "\n",
    "L'explorateur de fichiers intégré à JupyterLab, disponible via l'onglet **`File Browser`**, vous permet de naviguer dans un sous-ensemble de l'arborescence des fichiers disponibles sur votre disque dur. Par défaut, la racine de cette arborescence correspond au dossier où vous étiez, dans la fenêtre **Terminal**, au moment de lancer JupyterLab. Pour changer le dossier correspondant à cette racine de l'arborescence, il existe deux possibilités :\n",
    "\n",
    "- Soit vous effectuez un **`cd dossier_racine`** **AVANT** de lancer la commande **`jupyter lab`**\n",
    "- Soit vous lancez JupyterLab avec la commande **`jupyter lab --notebook-dir=dossier_racine`**\n",
    "\n",
    "Par contre, en lançant JupyterLab avec **Anaconda Navigator**, il n'existe pas de possibilité de changer ce dossier racine qui sera toujours défini comme le dossier personnel associé à l'utilisateur connecté sur le poste de travail."
   ]
  },
  {
   "cell_type": "markdown",
   "metadata": {
    "tags": []
   },
   "source": [
    "---\n",
    "### 1 - Interface\n",
    "\n",
    "La page d'accueil affichée par ***JupyterLab*** est composée de trois zones (cf. copie d'écran ci-dessus) :\n",
    "   \n",
    "- **En haut :** une ***barre de menus*** horizontale contenant 8 menus déroulants<br>\n",
    "  **`File`** , **`Edit`** , **`View`**, **`Run`** , **`Kernel`** , **`Tabs`** , \n",
    "  **`Settings`** , **`Help`**\n",
    "- **A gauche :** une ***barre de contrôle*** verticale contenant 6 onglets<br>\n",
    "  **`File Browser`** , **`Property Inspector`** , **`Terminals & Kernels`** , **`Table of Contents`** , **`Debugger`**, **`Extension Manager`** (au démarrage, c'est l'onglet **`File Browser`** qui est actif)\n",
    "- **Au centre :** une ***zone de travail*** contenant les documents actifs, chacun étant identifié par un onglet (au démarrage, c'est l'onglet ***`Launcher`*** qui est actif)\n",
    "\n",
    "Dans la configuration par défaut, l'interface contient deux barres de contrôle (l'une à droite avec 4 onglets, l'autre à gauche avec 2 onglets). Pour gagner de la place sur l'écran, il est préférable de regrouper les 6 onglets sur une seule barre : pour cela, il suffit de faire un clic droit sur l'onglet à déplacer et d'activer la commande **`Switch Sidebar Side`**\n",
    "\n",
    "De même, si vous souhaitez vraiment occuper tout l'espace disponible sur l'écran du poste de travail pour travailer sur votre notebook (mode ***distraction free***), on peut combiner le mode ***simple interface*** de JupyterLab, que l'on peut activer avec le switch **`Simple`** dans la barre d'état, et le mode ***plein-écran*** du navigateur web, qui est activé par la touche **<kbd>F11</kbd>** du clavier, sur la plupart des navigateurs web."
   ]
  },
  {
   "cell_type": "markdown",
   "metadata": {
    "tags": []
   },
   "source": [
    "---\n",
    "### 2 - Formats de documents\n",
    "\n",
    "L'environnement **Jupyter** permet de manipuler de nombreux types de documents, soit en **mode édition** ***(edit)***, soit en **mode visualisation** ***(view)***. Par défaut, un double clic sur le nom d'un fichier dans l'onglet **`File Browser`**, permet de l'ouvrir en mode visualisation. Pour ouvrir ce fichier en mode édition, il faut effectuer un clic droit et choisir l'outil d'édition dans le menu **`Open With`** qui apparait.\n",
    "    \n",
    "La liste ci-dessous présente les types de documents directement utilisables avec la configuration standard de **Jupyter**, mais cette liste peut encore être étendue, en installant différents plugins au moyen de l'onglet **`Extension Manager`** sur la barre de contrôle :\n",
    "\n",
    "- **Notebooks** : **`.ipynb`** (edit/view)\n",
    "- **Textes** :  **`.txt`** (edit/view) &emsp; **`.md`** (edit/view) &emsp; **`.html`** (edit/view) &emsp; **`.tex`** (edit/view) &emsp; **`.pdf`** (view)\n",
    "- **Données** : **`.csv/.tsv`** (edit/view) &emsp; **`.json`** (edit/view) &emsp; **`.yaml`** (edit/view) &emsp; **`.xml`** (edit/view))\n",
    "- **Images** :  **`.svg`** (edit/view) &emsp; **`.vg/.vl`** (edit/view) &emsp; **`.png`** (view) &emsp; **`.jpg`** (view) &emsp; **`.gif`** (view) &emsp; **`.bmp`** (view)\n",
    "\n",
    "Dans les chapitres ultérieurs, nous verrons comment aller au delà de la simple visualisation ou édition, en utilisant le langage Python pour effectuer des traitements complexes sur chacun de ces différents types de fichiers"
   ]
  },
  {
   "cell_type": "markdown",
   "metadata": {
    "tags": []
   },
   "source": [
    "---\n",
    "### 3 - Notebook\n",
    "\n",
    "Du point de vue de l'ordinateur, un **notebook Jupyter** est simplement un fichier local ou distant, au format [**JSON**](https://fr.wikipedia.org/wiki/JavaScript_Object_Notation) (JavaScript Object Notation). Même s'il s'agit d'un fichier JSON classique, le nom du fichier utilise une extension spécifique **`.ipynb`** permettant d'activer automatiquement l'interprétation du notebook par Jupyter\n",
    "\n",
    "Du point de vue de l'utilisateur, un notebook Jupyter est une page web interactive qui se compose de 2 types de **cellules** :\n",
    "\n",
    "- soit des ***cellules de texte*** qui vont contenir les éléments statiques du notebook\n",
    "- soit des ***cellules de code*** qui vont contenir les éléments dynamiques du notebook\n",
    "\n",
    "Pour **éditer une cellule**, il suffit de la sélectionner puis modifier son contenu :\n",
    "\n",
    "- pour une cellule de texte, la sélection s'effectue par un **double clic** de souris\n",
    "- pour une cellule de code, la sélection s'effectue par un **simple clic** de souris\n",
    "\n",
    "Pour **interpréter le contenu** d'une cellule (texte ou code), il faut la valider :\n",
    "\n",
    "- soit par **<kbd>Control</kbd>** + **<kbd>Enter</kbd>** (dans ce cas, la cellule courante reste active)\n",
    "- soit par **<kbd>Shift</kbd>** + **<kbd>Enter</kbd>** (dans ce cas, la cellule suivante devient active, quitte à la créer si nécessaire)\n",
    "- soit par **<kbd>Alt</kbd>** + **<kbd>Enter</kbd>** (dans ce cas, une cellule suivante est systématiquement créée et devient active)\n",
    "\n",
    "**Note :** Pour visualiser (voire éditer si vous êtes courageux) la structure JSON qui est \"cachée\" à l'intérieur de tout notebook au format **`.ipynb`**, il suffit d'effectuer un clic droit sur le nom du fichier dans l'onglet **`File Browser`** et de sélectionner **`Open With -> Editor`**. Cette opération permet de réaliser que, malgré sa complexité visuelle à l'écran, un notebook n'est qu'un banal fichier texte, utilisant un formalisme de description spécifique, exactement de la même manière qu'une page web sera toujours créée à partir d'un fichier texte utilisant le formalisme HTML."
   ]
  },
  {
   "cell_type": "markdown",
   "metadata": {
    "tags": []
   },
   "source": [
    "---\n",
    "### 4 - Barre de menu\n",
    "\n",
    "- Le menu **`File`** permet d'ouvrir, sauvegarder ou exporter un notebook\n",
    "- Le menu **`Edit`** permet de copier, coller, supprimer, déplacer, séparer ou fusionner des cellules\n",
    "- Le menu **`View`** permet de personnaliser l'affichage du notebook ou des cellules\n",
    "- Le menu **`Run`** permet d'interpréter plusieurs cellules en séquence\n",
    "- Le menu **`Kernel`** permet d'arrêter, de relancer ou de changer d'interpréteur\n",
    "- Le menu **`Tab`** permet de naviguer entre les différents onglets de l'interface\n",
    "- Le menu **`Settings`** permet de lancer les outils de configuration de l'environnement\n",
    "- Le menu **`Help`** permet d'accéder à l'aide en ligne pour les outils disponibles"
   ]
  },
  {
   "cell_type": "markdown",
   "metadata": {
    "jp-MarkdownHeadingCollapsed": true,
    "tags": []
   },
   "source": [
    "---\n",
    "### 5 - Barre de contrôle\n",
    "\n",
    "- L'onglet **`File Browser`** permet d'afficher un explorateur de fichiers\n",
    "- L'onglet **`Property Inspector`** permet d'afficher les détails sur une cellule du notebook actif\n",
    "- L'onglet **`Terminal & Kernels`** permet de lister et de manipuler les sessions et les onglets actifs\n",
    "- L'onglet **`Table of Contents`** permet d'afficher l'arborescence du plan pour le notebook actif\n",
    "- L'onglet **`Debugger`** permet d'afficher l'ensemble des commandes utilisables par le débogueur\n",
    "- L'onglet **`Extension Manager`** permet d'installer ou désinstaller des plugins pour l'environnement"
   ]
  },
  {
   "cell_type": "markdown",
   "metadata": {
    "jp-MarkdownHeadingCollapsed": true,
    "tags": []
   },
   "source": [
    "---\n",
    "### 6 - Barre d'outils\n",
    "\n",
    "Chaque notebook ouvert dans **JupyterLab** (identifié par un onglet dans la zone de travail) possède une barre d'outils qui regroupe les commandes les plus fréquentes utilisées lors d'une session :\n",
    "\n",
    "- Le bouton **`Save`** permet de sauvegarder le notebook actif\n",
    "- Le bouton **`Insert Cell`** permet d'insérer une nouvelle cellule sous la cellule active\n",
    "- Le bouton **`Cut Cells`** permet de couper les cellules sélectionnées\n",
    "- Le bouton **`Copy Cells`** permet de copier les cellules sélectionnées\n",
    "- Le bouton **`Paste Cells`** permet de coller les cellules précédemment coupées ou copiées\n",
    "- Le bouton **`Run Selected Cells`** permet d'exécuter/interpréter les cellules sélectionnées\n",
    "- Le bouton **`Stop Kernel`** permet d'arrêter le noyau (en cas de blocage, notamment)\n",
    "- Le bouton **`Restart Kernel`** permet d'arrêter et de redémarrer le noyau\n",
    "- Le bouton **`Restart and Run All`** permet d'exécuter/interpréter toutes les cellules du notebook\n",
    "- Le sélecteur **`Cell Type`** permet de modifier le type de la cellule active\n",
    "- Le bouton **`Enable/Disable Debugger`** permet de lancer/arrêter le débogueur pour les cellules de code\n",
    "- Le sélecteur **`Switch Kernel`** permet de modifier le noyau d'exécution utilisé pour le notebook\n",
    "- Le bouton **`Kernel Status`** permet de visualiser l'état courant du noyau d'exécution (*busy* ou *idle*)\n",
    "- Le bouton **`Virtual Scrollbar`** permet d'afficher la barre de navigation par numéro de cellule"
   ]
  },
  {
   "attachments": {},
   "cell_type": "markdown",
   "metadata": {
    "tags": []
   },
   "source": [
    "---\n",
    "### 7 - Raccourcis clavier\n",
    "\n",
    "Comme pour toute application interactive basée sur une interface clavier-souris, l'utilisation des raccourcis clavier permet de gagner en efficacité lors d'une session de travail sous **JupyterLab**. Dans le processus de création/édition/manipulation du notebook, l'utilisateur va perpétuellement alterner entre deux modes d'interaction :\n",
    "\n",
    "- Le mode **EDIT** utilisé lorsqu'on veut modifier des cellules de texte ou des cellules de code\n",
    "- Le mode **COMMAND** utilisé lorsqu'on veut modifier la structure du notebook (insérer, supprimer, fusionner ou découper des cellules...)\n",
    "\n",
    "> ***Il est important de se rappeler que les raccourcis clavier fournis par JupyterLab diffèrent selon le mode d'interaction***\n",
    "\n",
    "&#10070; **Mode EDIT**\n",
    "\n",
    "Le mode **EDIT** des cellules d'un notebook se comporte comme un éditeur de texte classique, où l'utilisateur va retrouver toutes les commandes habituelles pour le déplacement du curseur, la sélection et manipulation du texte, etc. Il y a néamoins quelques raccourcis spécifiques à connaître :\n",
    "\n",
    "- **<kbd>ESC</kbd>** = Sortie du mode **EDIT** et activation du mode **COMMAND**\n",
    "- **<kbd>ENTER</kbd>** = Insertion d'une ligne avec indentation automatique\n",
    "- **<kbd>CTRL</kbd>** + **<kbd>ENTER</kbd>** = Interprétation de la cellule (la cellule courante reste active)\n",
    "- **<kbd>SHIFT</kbd>** + **<kbd>ENTER</kbd>** = Interprétation de la cellule (la cellule suivante devient active)\n",
    "- **<kbd>TAB</kbd>** = Complétion automatique du symbole associé à la position courante du curseur (cellules de code)\n",
    "- **<kbd>SHIFT</kbd>** + **<kbd>TAB</kbd>** = Affichage d'une aide concernant le symbole associé à la position courante du curseur (cellules de code)\n",
    "- **<kbd>CTRL</kbd>** + **<kbd>/</kbd>** = Ajouter ou enlever un commentaire pour les lignes sélectionnées\n",
    "\n",
    "&#10070; **Mode COMMAND**\n",
    "\n",
    "Le mode **COMMAND** permet d'effectuer des manipulations globales sur les cellules ou sur le notebook :\n",
    "\n",
    "- **<kbd>ENTER</kbd>** = Sortie du mode **COMMAND** et activation du mode **EDIT**\n",
    "- **<kbd>Y</kbd>** = Basculer la cellule active en mode code (**Y** comme Python)\n",
    "- **<kbd>M</kbd>** = Basculer la cellule active en mode texte (**M** comme Markdown)\n",
    "- **<kbd>A</kbd>** = Créer une cellule au-dessus de la cellule active (**Above**)\n",
    "- **<kbd>B</kbd>** = Créer une cellule en-dessous de la cellule active (**Below**)\n",
    "- **<kbd>↑</kbd>** = Activer la cellule précédente (**Prev**)\n",
    "- **<kbd>↓</kbd>** = Activer la cellule suivante (**Next**)\n",
    "- **<kbd>CTRL</kbd>** + **<kbd>SHIFT</kbd>** + **<kbd>↑</kbd>** = Déplacer la cellule courante vers le haut (**Move Up**)\n",
    "- **<kbd>CTRL</kbd>** + **<kbd>SHIFT</kbd>** + **<kbd>↓</kbd>** = Déplacer la cellule courante vers le haut (**Move Down**)\n",
    "- **<kbd>C</kbd>** = Copier la cellule active (**Copy**)\n",
    "- **<kbd>X</kbd>** = Couper la cellule active (**Cut**)\n",
    "- **<kbd>V</kbd>** = Coller la cellule copiée/coupée en-dessous de la cellule active (**Paste**)\n",
    "- **<kbd>D</kbd>** + **<kbd>D</kbd>** = Détruire la cellule active (**Delete**)\n",
    "- **<kbd>Z</kbd>** = Défaire la dernière action de la cellule active (**Undo**)\n",
    "- **<kbd>SHIFT</kbd>** + **<kbd>Z</kbd>** = Refaire la dernière action de la cellule active (**Redo**)\n",
    "- **<kbd>CTRL</kbd>** + **<kbd>F</kbd>** = Chercher ou remplacer un motif dans le notebook (**Find/Replace**)\n",
    "- **<kbd>SHIFT</kbd>** + **<kbd>L</kbd>** = Basculer l'affichage de la numérotation des lignes (**Toggle Lines**)\n",
    "- **<kbd>PAGE DOWN</kbd>** ou **<kbd>SPACE</kbd>** = Afficher la page suivante du notebook(**Page Down**)\n",
    "- **<kbd>PAGE UP</kbd>** ou **<kbd>SHIFT</kbd>** + **<kbd>SPACE</kbd>** = Afficher la page précédente du notebook (**Page Up**)\n",
    "\n",
    "&#10070; **Raccourcis généraux (valables dans les deux modes) :**\n",
    "\n",
    "- **<kbd>CTRL</kbd>** + **<kbd>S</kbd>** = Sauvegarder le notebook actif\n",
    "- **<kbd>CTRL</kbd>** + **<kbd>SHIFT</kbd>** + **<kbd>S</kbd>** = Sauvegarder une copie du notebook actif\n",
    "- **<kbd>CTRL</kbd>** + **<kbd>SHIFT</kbd>** + **<kbd>Q</kbd>** = Fermer le notebook actif et arrêter son noyau d'exécution\n",
    "- **<kbd>CTRL</kbd>** + **<kbd>SHIFT</kbd>** + **<kbd>D</kbd>** = Basculer l'affichage des onglets\n",
    "- **<kbd>CTRL</kbd>** + **<kbd>SHIFT</kbd>** + **<kbd>F</kbd>** = Basculer l'affichage de l'arborescence des fichiers\n",
    "- **<kbd>CTRL</kbd>** + **<kbd>SHIFT</kbd>** + **<kbd>K</kbd>** = Ouvrir l'onglet du plan du notebook\n",
    "- **<kbd>CTRL</kbd>** + **<kbd>SHIFT</kbd>** + **<kbd>B</kbd>** = Ouvrir l'onglet des sessions actives\n",
    "- **<kbd>CTRL</kbd>** + **<kbd>SHIFT</kbd>** + **<kbd>X</kbd>** = Ouvrir l'onglet des modules et extensions\n",
    "- **<kbd>CTRL</kbd>** + **<kbd>SHIFT</kbd>** + **<kbd>E</kbd>** = Ouvrir l'onglet du débogueur\n",
    "- **<kbd>CTRL</kbd>** + **<kbd>SHIFT</kbd>** + **<kbd>E</kbd>** = Ouvrir le popup de recherche de commandes"
   ]
  },
  {
   "cell_type": "markdown",
   "metadata": {
    "jp-MarkdownHeadingCollapsed": true,
    "tags": []
   },
   "source": [
    "---\n",
    "### 8 - Configuration de l'environnement\n",
    "\n",
    "Comme tout environnement de développement moderne, l'interface utilisateur de **JupyterLab** est configurable et personnalisable dans les moindres détails, aussi bien visuels que fonctionnels. Dans les premières versions de JupyterLab, cette personnalisation s'effectuait en éditant un fichier de configuration au format JSON, ce qui n'était pas forcément simple pour un utilisateur débutant. Depuis la version 3.0, la configuration peut s'effectuer de manière interactive, via le menu **`Settings`** dans la barre de menu principale de l'application. Ce menu regroupe les paramètres de personnalisation les plus fréquents (choix du thème et de la langue de l'interface, de la taille des fonts...), mais contient également une commande **`Settings Editor`** (tout en bas du menu) qui va ouvrir un nouvel onglet, appelé **Settings**, dans la zone de travail, dans lequel sont regroupés l'intégralité des différents paramètres de configuration classés par modules.\n",
    "\n",
    "Le choix des paramètres de configuration est essentiellement une affaire de préférences personnelles. Néanmoins pour l'édition de code informatique, sélectionner un certain nombre de paramètres spécifiques pour l'éditeur des cellules de code, permet d'augmenter la productivité. De plus, les notebooks fournis dans le cadre de ce cours, ont été réalisés avec certaines options particulières, il est donc important que vous configuriez votre environnement avec les mêmes options pour que vos éventuelles modifications soient formatés de la même manière que les cellules de texte ou de code existantes. A la première utilisation de **JupyterLab**, il est donc conseillé de faire les manipulations suivantes :\n",
    "\n",
    "- Ouvrir l'onglet **Settings**, en sélectionnant **`Settings Editor`** dans le menu **`Settings`**\n",
    "- Dans la colonne de gauche de cet onglet, sélectionner **Code Mirror** (nom de l'éditeur de code)\n",
    "- Puis dans la colonne de droite, cocher ou modifier les paramètres suivants (de haut en bas) :\n",
    "\n",
    "    * **Auto Closing Brackets** : true\n",
    "    * **Code Folding** : true\n",
    "    * **Highlight Special Characters** : true\n",
    "    * **Highlight Trailing Spaces** : true\n",
    "    * **Indentation Unit** : 2\n",
    "    * **Line Numbers** : true\n",
    "    * **Line Wrap** : true\n",
    "    * **Match Brackets** : true\n",
    "    * **Rectangular Selection** : true\n",
    "    * **Smart Indentation** : true\n",
    "    * **Tab Size** : 2\n",
    "    * **Multiple Selection** : true\n",
    "\n",
    "Les propriétés non citées dans cette liste doivent rester vides ou non cochées"
   ]
  },
  {
   "cell_type": "markdown",
   "metadata": {},
   "source": [
    "<h2 style=\"padding:16px; color:#FFF; background:#07D\">C - Contenu d'un notebook</h2>\n",
    "\n",
    "### 1 - Cellules de texte\n",
    "\n",
    "Comme indiqué plus haut, les **cellules de texte** permettent à l'utilisateur d'insérer des éléments statiques  dans un notebook Jupyter, soit sous la forme de textes, de tables, d'équations, de figures, d'images, de vidéos, de liens vers des ressources locales ou distantes, etc. Par défaut, ces cellules de texte sont écrites en utilisant la syntaxe du langage [**Markdown**](https://fr.wikipedia.org/wiki/Markdown) qui fera l'objet d'une présentation complète dans le chapitre 2 de ce cours.\n",
    "\n",
    "Le langage **Markdown** est à la fois très facile à maîtriser et parfaitement adapté pour rédiger et organiser les divers éléments multimédia constituant un notebook. Lorsqu'une mise en page plus spécifique s'avère nécessaire, l'environnement Jupyter permet de basculer temporairement vers les langages [**HTML**](https://fr.wikipedia.org/wiki/Hypertext_Markup_Language) ou [**LaTeX**](https://fr.wikipedia.org/wiki/LaTeX) à l'intérieur d'une cellule de texte écrite en Markdown.\n",
    "\n",
    "Par contre, pour des projets plus ambitieux (manuels, rapports, livres) nécessitant des fonctionnalités supplémentaires et une organisation plus complexe, il est préférable d'installer certaines extensions spécialisées de Jupyter, telles que [**JupyterSphinx**](https://jupyter-sphinx.readthedocs.io/en/latest/) ou [**JupyterBook**](https://jupyterbook.org/en/stable/intro.html) qui permettent de créer automatiquement certains types de contenus fréquemment rencontrés dans les ouvrages scientifiques (table des matières, liste des figures, glossaire, références bibliographiques, etc)\n",
    "\n",
    "La modification des cellules de texte est gérée par un éditeur de texte"
   ]
  },
  {
   "cell_type": "markdown",
   "metadata": {},
   "source": [
    "---\n",
    "### 2 - Cellules de code\n",
    "\n",
    "A côté des cellules de texte, les **cellules de code** permettent à l'utilisateur d'insérer des éléments dynamiques dans un notebook Jupyter, sous la forme d'une série d'instructions écrites dans un langage de programmation. Ces cellules de code seront exécutés de manière interactive par le **noyau d'exécution** (*execution kernel* ou tout simplement ***kernel***) utilisé pour le notebook courant. Par défaut, ces cellules de code sont écrites en utilisant la syntaxe du langage [**Python**](https://fr.wikipedia.org/wiki/Python_(langage)) qui fera l'objet d'une présentation complète dans le chapitre 3 de ce cours.\n",
    "\n",
    "Le noyau d'exécution [**ipykernel**](https://ipython.org) permettant à Jupyter d'interpréter et d'exécuter les cellules de code écrites en langage **Python** est le seul kernel présent à l'installation de la distribution **Anaconda**. Néanmoins il existe aujourd'hui des noyaux d'exécution pour près d'une [**centaine de langages de programmation**](https://github.com/jupyter/jupyter/wiki/Jupyter-kernels), qui peuvent donc être utilisés à l'intérieur des notebooks Jupyter. Mais il est important de comprendre qu'un tel kernel ne sert que de relais entre le contenu d'une cellule de code et un interpréteur du langage de programmation correspondant. Il faut donc ***systématiquement installer cet interpréteur sur son poste de travail, en plus du kernel associé***, avant de pouvoir utiliser ce langage dans les notebooks Jupyter. De plus, le processus d'installation d'un kernel peut varier assez fortement d'un langage à l'autre, il est donc conseillé de bien lire la documentation associée à chaque noyau pour identifier les étapes à suivre."
   ]
  },
  {
   "cell_type": "markdown",
   "metadata": {},
   "source": [
    "---\n",
    "### 3 - Commandes \"magiques\"\n",
    "\n",
    "En plus des instructions standards du langage Python, le noyau [**ipykernel**](https://ipython.org) permet également d'utiliser des commandes dites ***magiques*** dans les cellules de code, pour obtenir des fonctionnalités avancées. Ces commandes magiques se présentent sous deux formes différentes :\n",
    "\n",
    "- Les commandes magiques de cellules, préfixées par `%%`, se placent **obligatoirement en début de cellule**\n",
    "- Les commandes magiques de lignes, préfixées par `%`, se placent **n'importe où dans une cellule**\n",
    "\n",
    "La liste complète des commandes magiques est obtenue en utilisant la commande **`%lsmagic`**. Une aide plus complète se trouve sur le site [**ReadTheDocs**](https://ipython.readthedocs.io/en/stable/interactive/magics.html), mais une copie locale est directement accessible dans le menu **`Help`** de JupyterLab, sous le titre ***IPython Reference***. Les commandes magiques peuvent globalement être réparties en trois catégories :\n",
    "\n",
    "- Les ***commandes d'interaction avec le système d'exploitation***, permettant notamment de manipuler les variables d'environnement et l'arborescence des fichiers :\n",
    "  > **`%env`** / **`%pwd`** / **`%ls`** / **`%cd`** / **`%mkdir`** / **`%rmdir`** / **`%mv`** / **`%cp`** / **`%load`** / **`%run`** / ...\n",
    "\n",
    "- Les ***commandes de profilage***, permettant de mesurer le temps d'exécution et de comparer l'efficacité de diverses implémentations d'une même fonctionnalité :\n",
    "  > **`%time`** / **`%timeit`** / **`%prun`** / ...\n",
    "\n",
    "- Les ***commandes de substitution de langage***, permettant d'interpréter la cellule courante par un autre interpréteur que celui défini par le noyau d'exécution :\n",
    "  > **`%%html`** / **`%%latex`** / **`%%javascript`** / **`%%ruby`** / **`%%perl`** / **`%%bash`** / **`%%cmd`** / ...\n",
    "\n",
    "---"
   ]
  },
  {
   "cell_type": "code",
   "execution_count": 1,
   "metadata": {
    "tags": []
   },
   "outputs": [
    {
     "data": {
      "application/json": {
       "cell": {
        "!": "OSMagics",
        "HTML": "Other",
        "SVG": "Other",
        "bash": "Other",
        "capture": "ExecutionMagics",
        "cmd": "Other",
        "code_wrap": "ExecutionMagics",
        "debug": "ExecutionMagics",
        "file": "Other",
        "html": "DisplayMagics",
        "javascript": "DisplayMagics",
        "js": "DisplayMagics",
        "latex": "DisplayMagics",
        "markdown": "DisplayMagics",
        "perl": "Other",
        "prun": "ExecutionMagics",
        "pypy": "Other",
        "python": "Other",
        "python2": "Other",
        "python3": "Other",
        "ruby": "Other",
        "script": "ScriptMagics",
        "sh": "Other",
        "svg": "DisplayMagics",
        "sx": "OSMagics",
        "system": "OSMagics",
        "time": "ExecutionMagics",
        "timeit": "ExecutionMagics",
        "writefile": "OSMagics"
       },
       "line": {
        "alias": "OSMagics",
        "alias_magic": "BasicMagics",
        "autoawait": "AsyncMagics",
        "autocall": "AutoMagics",
        "automagic": "AutoMagics",
        "autosave": "KernelMagics",
        "bookmark": "OSMagics",
        "cd": "OSMagics",
        "clear": "KernelMagics",
        "cls": "KernelMagics",
        "code_wrap": "ExecutionMagics",
        "colors": "BasicMagics",
        "conda": "PackagingMagics",
        "config": "ConfigMagics",
        "connect_info": "KernelMagics",
        "copy": "Other",
        "ddir": "Other",
        "debug": "ExecutionMagics",
        "dhist": "OSMagics",
        "dirs": "OSMagics",
        "doctest_mode": "BasicMagics",
        "echo": "Other",
        "ed": "Other",
        "edit": "KernelMagics",
        "env": "OSMagics",
        "gui": "BasicMagics",
        "hist": "Other",
        "history": "HistoryMagics",
        "killbgscripts": "ScriptMagics",
        "ldir": "Other",
        "less": "KernelMagics",
        "load": "CodeMagics",
        "load_ext": "ExtensionMagics",
        "loadpy": "CodeMagics",
        "logoff": "LoggingMagics",
        "logon": "LoggingMagics",
        "logstart": "LoggingMagics",
        "logstate": "LoggingMagics",
        "logstop": "LoggingMagics",
        "ls": "Other",
        "lsmagic": "BasicMagics",
        "macro": "ExecutionMagics",
        "magic": "BasicMagics",
        "mamba": "PackagingMagics",
        "matplotlib": "PylabMagics",
        "micromamba": "PackagingMagics",
        "mkdir": "Other",
        "more": "KernelMagics",
        "notebook": "BasicMagics",
        "page": "BasicMagics",
        "pastebin": "CodeMagics",
        "pdb": "ExecutionMagics",
        "pdef": "NamespaceMagics",
        "pdoc": "NamespaceMagics",
        "pfile": "NamespaceMagics",
        "pinfo": "NamespaceMagics",
        "pinfo2": "NamespaceMagics",
        "pip": "PackagingMagics",
        "popd": "OSMagics",
        "pprint": "BasicMagics",
        "precision": "BasicMagics",
        "prun": "ExecutionMagics",
        "psearch": "NamespaceMagics",
        "psource": "NamespaceMagics",
        "pushd": "OSMagics",
        "pwd": "OSMagics",
        "pycat": "OSMagics",
        "pylab": "PylabMagics",
        "qtconsole": "KernelMagics",
        "quickref": "BasicMagics",
        "recall": "HistoryMagics",
        "rehashx": "OSMagics",
        "reload_ext": "ExtensionMagics",
        "ren": "Other",
        "rep": "Other",
        "rerun": "HistoryMagics",
        "reset": "NamespaceMagics",
        "reset_selective": "NamespaceMagics",
        "rmdir": "Other",
        "run": "ExecutionMagics",
        "save": "CodeMagics",
        "sc": "OSMagics",
        "set_env": "OSMagics",
        "store": "StoreMagics",
        "sx": "OSMagics",
        "system": "OSMagics",
        "tb": "ExecutionMagics",
        "time": "ExecutionMagics",
        "timeit": "ExecutionMagics",
        "unalias": "OSMagics",
        "unload_ext": "ExtensionMagics",
        "who": "NamespaceMagics",
        "who_ls": "NamespaceMagics",
        "whos": "NamespaceMagics",
        "xdel": "NamespaceMagics",
        "xmode": "BasicMagics"
       }
      },
      "text/plain": [
       "Available line magics:\n",
       "%alias  %alias_magic  %autoawait  %autocall  %automagic  %autosave  %bookmark  %cd  %clear  %cls  %code_wrap  %colors  %conda  %config  %connect_info  %copy  %ddir  %debug  %dhist  %dirs  %doctest_mode  %echo  %ed  %edit  %env  %gui  %hist  %history  %killbgscripts  %ldir  %less  %load  %load_ext  %loadpy  %logoff  %logon  %logstart  %logstate  %logstop  %ls  %lsmagic  %macro  %magic  %mamba  %matplotlib  %micromamba  %mkdir  %more  %notebook  %page  %pastebin  %pdb  %pdef  %pdoc  %pfile  %pinfo  %pinfo2  %pip  %popd  %pprint  %precision  %prun  %psearch  %psource  %pushd  %pwd  %pycat  %pylab  %qtconsole  %quickref  %recall  %rehashx  %reload_ext  %ren  %rep  %rerun  %reset  %reset_selective  %rmdir  %run  %save  %sc  %set_env  %store  %sx  %system  %tb  %time  %timeit  %unalias  %unload_ext  %who  %who_ls  %whos  %xdel  %xmode\n",
       "\n",
       "Available cell magics:\n",
       "%%!  %%HTML  %%SVG  %%bash  %%capture  %%cmd  %%code_wrap  %%debug  %%file  %%html  %%javascript  %%js  %%latex  %%markdown  %%perl  %%prun  %%pypy  %%python  %%python2  %%python3  %%ruby  %%script  %%sh  %%svg  %%sx  %%system  %%time  %%timeit  %%writefile\n",
       "\n",
       "Automagic is ON, % prefix IS NOT needed for line magics."
      ]
     },
     "execution_count": 1,
     "metadata": {},
     "output_type": "execute_result"
    }
   ],
   "source": [
    "%lsmagic # liste des commandes magiques"
   ]
  },
  {
   "cell_type": "code",
   "execution_count": 2,
   "metadata": {
    "tags": []
   },
   "outputs": [
    {
     "name": "stdout",
     "output_type": "stream",
     "text": [
      "Current folder = D:\\Users\\Work\\JUPYTER\\OUTINFO\n"
     ]
    }
   ],
   "source": [
    "folder = %pwd # stockage du dossier courant dans une variable Python\n",
    "print('Current folder =', folder)"
   ]
  },
  {
   "cell_type": "code",
   "execution_count": 3,
   "metadata": {},
   "outputs": [],
   "source": [
    "#%run SRC/hello\n",
    "# enlever le commentaire de la ligne précédente, pour lancer l'exécution du fichier 'SRC/hello.py'"
   ]
  },
  {
   "cell_type": "code",
   "execution_count": 4,
   "metadata": {},
   "outputs": [],
   "source": [
    "#%load SRC/hello\n",
    "# enlever le commentaire de la ligne précédente, pour charger le contenu du fichier 'SRC/hello.py'"
   ]
  },
  {
   "cell_type": "markdown",
   "metadata": {},
   "source": [
    "---\n",
    "L'une des commandes magiques les plus utiles est celle permettant de lancer, à l'intérieur d'un notebook, des commandes destinées au système d'exploitation. Le langage de commande [**bash**](https://fr.wikipedia.org/wiki/Bourne-Again_shell), initialement développé pour le système ***Unix*** puis adapté à l'ensemble des systèmes d'exploitation courants ***(Windows, MacOS, Linux, Android, iOS)***, est devenu un standard de facto parmi les outils utilisés en Sciences des Données. La commande magique **`%%bash`** permet ainsi de transformer une cellule de notebook en interpréteur **bash** et d'exécuter un script écrit dans ce langage. Lorsque l'instruction à exécuter en **bash** se réduit à une seule ligne, on peut remplacer la commande magique **`%%bash`** par un simple préfixe **`!`** :"
   ]
  },
  {
   "cell_type": "code",
   "execution_count": 5,
   "metadata": {},
   "outputs": [
    {
     "name": "stdout",
     "output_type": "stream",
     "text": [
      "06-Matplotlib.ipynb\n",
      "E-Matplotlib.ipynb\n",
      "E~Matplotlib.ipynb\n"
     ]
    }
   ],
   "source": [
    "%%bash # exécution d'un script 'bash' (= langage de commande du système)\n",
    "# par exemple, lister tous les noms de fichiers '.ipynb' qui contiennent le motif 'plot'\n",
    "ls *.ipynb | grep plot"
   ]
  },
  {
   "cell_type": "code",
   "execution_count": 6,
   "metadata": {},
   "outputs": [
    {
     "name": "stdout",
     "output_type": "stream",
     "text": [
      "06-Matplotlib.ipynb\n",
      "E-Matplotlib.ipynb\n",
      "E~Matplotlib.ipynb\n"
     ]
    }
   ],
   "source": [
    "# le préfixe ! est un raccourci pour %%bash lorsque le script se réduit à une seule commande\n",
    "!ls *.ipynb | grep plot"
   ]
  },
  {
   "cell_type": "markdown",
   "metadata": {},
   "source": [
    "Parmi les utilisations très fréquentes du préfixe **`!`** dans un notebook Jupyter, figure la ***vérification de la présence d'une bibliothèque Python suivie de son installation automatique lorsqu'elle est manquante***. Ce processus s'effectue à l'aide du gestionnaire de packages, appelé [**pip**](https://docs.python.org/3/installing/index.html), et permet ainsi de garantir que toutes les bibliothèques nécessaires à l'exécution correcte du notebook sont bien installées et reconnues par le noyau d'exécution :"
   ]
  },
  {
   "cell_type": "code",
   "execution_count": 7,
   "metadata": {},
   "outputs": [
    {
     "name": "stdout",
     "output_type": "stream",
     "text": [
      "Requirement already satisfied: lxml in c:\\tools\\python\\lib\\site-packages (5.3.0)\n"
     ]
    }
   ],
   "source": [
    "# vérification de la présence du module Python 'lxml' suivie de son installation s'il est absent\n",
    "!pip install lxml"
   ]
  },
  {
   "cell_type": "markdown",
   "metadata": {},
   "source": [
    "---\n",
    "En dehors du langage **bash**, les commandes de substitution de langage permettent d'interpréter le contenu d'une cellule de notebook avec tous les langages pour lesquels un interpréteur a été installé dans l'environnement Jupyter. En pratique, les deux commandes de substitution les plus utilisés sont **`%%html`** pour interpréter une cellule écrite en [**HTML**](https://fr.wikipedia.org/wiki/Hypertext_Markup_Language)\n",
    "et **`%%latex`** pour interpréter une cellule écrite en [**LaTeX**](https://fr.wikipedia.org/wiki/LaTeX). Les cellules de codes ci-dessous fournissent quelques exemples permettant d'illustrer le rôle de ces deux commandes magiques.\n",
    "\n",
    ">**Note :** Pour les cellules de code utilisant des langages de présentation comme HTML ou LaTeX, ce qui intéresse l'utilisateur la plupart du temps, c'est le résultat visuel obtenu et non le code qui a permis de générer ce résultat. Il est donc tout à fait cohérent, une fois que le code a été écrit et validé, de cacher le contenu de la cellule de code pour ne laisser visible que le résultat. Ceci s'obtient simplement en cliquant sur la barre verticale bleue à gauche de la cellule, et permet de remplacer toute la cellule de code par des points de suspension (sur lequel on pourra cliquer à nouveau, si on veut modifier ultérieurement le contenu du code)"
   ]
  },
  {
   "cell_type": "code",
   "execution_count": 8,
   "metadata": {
    "tags": []
   },
   "outputs": [
    {
     "data": {
      "text/html": [
       "<!-- Inclusion de bloc de texte au format HTML, en utilisant la propriété 'style' pour les paramètres CSS -->\n",
       "<p style=\"background:#07D; color:#FFF; font-size:40px; font-weight:700; text-align:center\">\n",
       "ABCDEFGHIJKLMNOPQRSTUVWXYZ </p>\n"
      ],
      "text/plain": [
       "<IPython.core.display.HTML object>"
      ]
     },
     "metadata": {},
     "output_type": "display_data"
    }
   ],
   "source": [
    "%%html\n",
    "<!-- Inclusion de bloc de texte au format HTML, en utilisant la propriété 'style' pour les paramètres CSS -->\n",
    "<p style=\"background:#07D; color:#FFF; font-size:40px; font-weight:700; text-align:center\">\n",
    "ABCDEFGHIJKLMNOPQRSTUVWXYZ </p>"
   ]
  },
  {
   "cell_type": "code",
   "execution_count": 9,
   "metadata": {
    "tags": [
     "hide-input"
    ]
   },
   "outputs": [
    {
     "data": {
      "text/html": [
       "<!-- Inclusion de bloc de texte au format HTML, en utilisant la balise '<style>' et le mode 'flexbox' -->\n",
       "<style>\n",
       "  .row {display:flex; font-size:16px; font-weight:700}\n",
       "  .colA {flex:66%; background:#7FA; padding:8px}\n",
       "  .colB {flex:33%; background:#FA7; padding:8px}\n",
       "  .colC {flex:99%; text-align:center; font-style:italic}\n",
       "</style>\n",
       "<div class=row>\n",
       "  <div class=colA>ABCDEFGHIJKLMNOPQRSTUVWXYZ</div>\n",
       "  <div class=colB>ABCDEFGHIJKLMNOPQRSTUVWXYZ</div>\n",
       "</div> <div class=row>\n",
       "  <div class=colC>ABCDEFGHIJKLMNOPQRSTUVWXYZ</div>\n",
       "</div> <div class=row>\n",
       "  <div class=colC>ABCDEFGHIJKLMNOPQRSTUVWXYZ</div>\n",
       "  <div class=colC>ABCDEFGHIJKLMNOPQRSTUVWXYZ</div>\n",
       "</div> <div class=row>\n",
       "  <div class=colB>ABCDEFGHIJKLMNOPQRSTUVWXYZ</div>\n",
       "  <div class=colA>ABCDEFGHIJKLMNOPQRSTUVWXYZ</div>\n",
       "</div>\n"
      ],
      "text/plain": [
       "<IPython.core.display.HTML object>"
      ]
     },
     "metadata": {},
     "output_type": "display_data"
    }
   ],
   "source": [
    "%%html\n",
    "<!-- Inclusion de bloc de texte au format HTML, en utilisant la balise '<style>' et le mode 'flexbox' -->\n",
    "<style>\n",
    "  .row {display:flex; font-size:16px; font-weight:700}\n",
    "  .colA {flex:66%; background:#7FA; padding:8px}\n",
    "  .colB {flex:33%; background:#FA7; padding:8px}\n",
    "  .colC {flex:99%; text-align:center; font-style:italic}\n",
    "</style>\n",
    "<div class=row>\n",
    "  <div class=colA>ABCDEFGHIJKLMNOPQRSTUVWXYZ</div>\n",
    "  <div class=colB>ABCDEFGHIJKLMNOPQRSTUVWXYZ</div>\n",
    "</div> <div class=row>\n",
    "  <div class=colC>ABCDEFGHIJKLMNOPQRSTUVWXYZ</div>\n",
    "</div> <div class=row>\n",
    "  <div class=colC>ABCDEFGHIJKLMNOPQRSTUVWXYZ</div>\n",
    "  <div class=colC>ABCDEFGHIJKLMNOPQRSTUVWXYZ</div>\n",
    "</div> <div class=row>\n",
    "  <div class=colB>ABCDEFGHIJKLMNOPQRSTUVWXYZ</div>\n",
    "  <div class=colA>ABCDEFGHIJKLMNOPQRSTUVWXYZ</div>\n",
    "</div>"
   ]
  },
  {
   "cell_type": "code",
   "execution_count": 10,
   "metadata": {
    "tags": []
   },
   "outputs": [
    {
     "data": {
      "text/html": [
       "<!-- Inclusion de figure au format SVG, en utilisant la balise '<svg>' -->\n",
       "<svg viewBox='0 0 800 240' xmlns='http://www.w3.org/2000/svg'>\n",
       "  <g fill='#EEE' stroke='#000' stroke-width='2'>\n",
       "    <rect x='25' y='25' width='700' height='200' rx='25' stroke-width='4'/>\n",
       "    <ellipse cx='100' cy='125' rx='50' ry='75' fill='#F00'/>\n",
       "    <ellipse cx='210' cy='125' rx='50' ry='75' fill='#0F0'/>\n",
       "    <ellipse cx='320' cy='125' rx='50' ry='75' fill='#00F'/>\n",
       "    <ellipse cx='430' cy='125' rx='50' ry='75' fill='#0FF'/>\n",
       "    <ellipse cx='540' cy='125' rx='50' ry='75' fill='#F0F'/>\n",
       "    <ellipse cx='650' cy='125' rx='50' ry='75' fill='#FF0'/>\n",
       "  </g>\n",
       "</svg>\n"
      ],
      "text/plain": [
       "<IPython.core.display.HTML object>"
      ]
     },
     "metadata": {},
     "output_type": "display_data"
    }
   ],
   "source": [
    "%%html\n",
    "<!-- Inclusion de figure au format SVG, en utilisant la balise '<svg>' -->\n",
    "<svg viewBox='0 0 800 240' xmlns='http://www.w3.org/2000/svg'>\n",
    "  <g fill='#EEE' stroke='#000' stroke-width='2'>\n",
    "    <rect x='25' y='25' width='700' height='200' rx='25' stroke-width='4'/>\n",
    "    <ellipse cx='100' cy='125' rx='50' ry='75' fill='#F00'/>\n",
    "    <ellipse cx='210' cy='125' rx='50' ry='75' fill='#0F0'/>\n",
    "    <ellipse cx='320' cy='125' rx='50' ry='75' fill='#00F'/>\n",
    "    <ellipse cx='430' cy='125' rx='50' ry='75' fill='#0FF'/>\n",
    "    <ellipse cx='540' cy='125' rx='50' ry='75' fill='#F0F'/>\n",
    "    <ellipse cx='650' cy='125' rx='50' ry='75' fill='#FF0'/>\n",
    "  </g>\n",
    "</svg>"
   ]
  },
  {
   "cell_type": "code",
   "execution_count": 11,
   "metadata": {},
   "outputs": [
    {
     "data": {
      "text/html": [
       "<!-- Inclusion de son (lien sur fichier au format WAV, MP3, AAC ou OGG), en utilisant la balise '<audio>' -->\n",
       "<audio autoplay src='IMG/beep.mp3'/>\n"
      ],
      "text/plain": [
       "<IPython.core.display.HTML object>"
      ]
     },
     "metadata": {},
     "output_type": "display_data"
    }
   ],
   "source": [
    "%%html\n",
    "<!-- Inclusion de son (lien sur fichier au format WAV, MP3, AAC ou OGG), en utilisant la balise '<audio>' -->\n",
    "<audio autoplay src='IMG/beep.mp3'/>"
   ]
  },
  {
   "cell_type": "code",
   "execution_count": 12,
   "metadata": {},
   "outputs": [
    {
     "data": {
      "text/html": [
       "<!-- Idem en ajoutant une widget de lecture -->\n",
       "<audio controls loop src='IMG/beep.ogg'/>\n"
      ],
      "text/plain": [
       "<IPython.core.display.HTML object>"
      ]
     },
     "metadata": {},
     "output_type": "display_data"
    }
   ],
   "source": [
    "%%html\n",
    "<!-- Idem en ajoutant une widget de lecture -->\n",
    "<audio controls loop src='IMG/beep.ogg'/>"
   ]
  },
  {
   "cell_type": "code",
   "execution_count": 13,
   "metadata": {
    "tags": []
   },
   "outputs": [
    {
     "data": {
      "text/html": [
       "<!-- Inclusion de vidéo (lien sur fichier au format MP4), en utilisant la balise '<video>' -->\n",
       "<video width=100% height=144 autoplay loop src='IMG/noise.mp4'/>\n"
      ],
      "text/plain": [
       "<IPython.core.display.HTML object>"
      ]
     },
     "metadata": {},
     "output_type": "display_data"
    }
   ],
   "source": [
    "%%html\n",
    "<!-- Inclusion de vidéo (lien sur fichier au format MP4), en utilisant la balise '<video>' -->\n",
    "<video width=100% height=144 autoplay loop src='IMG/noise.mp4'/>"
   ]
  },
  {
   "cell_type": "code",
   "execution_count": 14,
   "metadata": {
    "tags": []
   },
   "outputs": [
    {
     "data": {
      "text/html": [
       "<!-- Idem en ajoutant une widget de lecture -->\n",
       "<video width=100% height=144 controls src='IMG/noise.mp4'/>\n"
      ],
      "text/plain": [
       "<IPython.core.display.HTML object>"
      ]
     },
     "metadata": {},
     "output_type": "display_data"
    }
   ],
   "source": [
    "%%html\n",
    "<!-- Idem en ajoutant une widget de lecture -->\n",
    "<video width=100% height=144 controls src='IMG/noise.mp4'/>"
   ]
  },
  {
   "cell_type": "code",
   "execution_count": 15,
   "metadata": {
    "tags": []
   },
   "outputs": [
    {
     "data": {
      "text/html": [
       "<!-- Inclusion de vidéo (lien sur une page YouTube), en utilisant la balise '<iframe>' -->\n",
       "<iframe width=100% height=360 frameborder=0 allowfullscreen src='https://www.youtube.com/embed/A5YyoCKxEOU'/>\n"
      ],
      "text/plain": [
       "<IPython.core.display.HTML object>"
      ]
     },
     "metadata": {},
     "output_type": "display_data"
    }
   ],
   "source": [
    "%%html\n",
    "<!-- Inclusion de vidéo (lien sur une page YouTube), en utilisant la balise '<iframe>' -->\n",
    "<iframe width=100% height=360 frameborder=0 allowfullscreen src='https://www.youtube.com/embed/A5YyoCKxEOU'/>"
   ]
  },
  {
   "cell_type": "code",
   "execution_count": 16,
   "metadata": {
    "tags": []
   },
   "outputs": [
    {
     "data": {
      "text/html": [
       "<!-- Inclusion de site web complet, en utilisant la balise '<iframe>' -->\n",
       "<iframe width=100% height=360 frameborder=0 src='https://www.wikipedia.org'/>\n"
      ],
      "text/plain": [
       "<IPython.core.display.HTML object>"
      ]
     },
     "metadata": {},
     "output_type": "display_data"
    }
   ],
   "source": [
    "%%html\n",
    "<!-- Inclusion de site web complet, en utilisant la balise '<iframe>' -->\n",
    "<iframe width=100% height=360 frameborder=0 src='https://www.wikipedia.org'/>"
   ]
  },
  {
   "cell_type": "code",
   "execution_count": 17,
   "metadata": {
    "tags": []
   },
   "outputs": [
    {
     "data": {
      "text/latex": [
       "\\begin{align}\n",
       "  e^{\\,i\\pi} + 1 & = 0 && \\textrm{(identité d'Euler)} \\\\\n",
       "  F(\\omega) & = \\int_{-\\infty}^{+\\infty} f(t)\\, e^{-2\\pi i\\, \\omega t}\\, dt && \\textrm{(transformée de Fourier continue)} \\\\\n",
       "  S_m & = \\sum_{n\\,=\\,0}^{N-1} s_n\\, e^{-2\\pi i\\frac{m\\,n}{N}} && \\textrm{(transformée de Fourier discrète)}\n",
       "\\end{align}\n"
      ],
      "text/plain": [
       "<IPython.core.display.Latex object>"
      ]
     },
     "metadata": {},
     "output_type": "display_data"
    }
   ],
   "source": [
    "%%latex # inclusion de bloc d'équations, en utilisant la syntaxe LaTeX\n",
    "\\begin{align}\n",
    "  e^{\\,i\\pi} + 1 & = 0 && \\textrm{(identité d'Euler)} \\\\\n",
    "  F(\\omega) & = \\int_{-\\infty}^{+\\infty} f(t)\\, e^{-2\\pi i\\, \\omega t}\\, dt && \\textrm{(transformée de Fourier continue)} \\\\\n",
    "  S_m & = \\sum_{n\\,=\\,0}^{N-1} s_n\\, e^{-2\\pi i\\frac{m\\,n}{N}} && \\textrm{(transformée de Fourier discrète)}\n",
    "\\end{align}"
   ]
  },
  {
   "cell_type": "markdown",
   "metadata": {
    "tags": [
     "hide-input"
    ]
   },
   "source": [
    "---\n",
    "\n",
    "**Remarque importante :** Les deux langages de présentation **HTML+CSS** et **LaTeX** sont des outils importants pour le travail quotidien lorsqu'on travaille dans le domaine des Sciences des Données. Si vous n'avez pas eu de formation sur ces éléments, il est fortement conseillé de suivre une auto-formation (même succinte) pour en maîtriser les éléments de base. Voici quelques pointeurs sur des tutos en ligne ou des mémos à télécharger, plutôt bien faits :\n",
    "\n",
    "> ***Tutos et Mémos HTML :***\n",
    "  [**W3schools**](https://www.w3schools.com/html) ●\n",
    "  [**MDN Web**](https://developer.mozilla.org/fr/docs/Web/HTML) ●\n",
    "  [**Tutorial Points**](https://www.tutorialspoint.com/html) ●\n",
    "  [**Mémo par Olivier Dommange**](http://www.labri.fr/perso/schlick/outinfo/PDF/MemoHTML.pdf)\n",
    "\n",
    "> ***Tutos et Mémos CSS :***\n",
    "  [**W3schools**](https://www.w3schools.com/css) ●\n",
    "  [**MDN Web**](https://developer.mozilla.org/fr/docs/Web/HTML) ●\n",
    "  [**Tutorial Points**](https://www.tutorialspoint.com/css) ●\n",
    "  [**Mémo par Olivier Dommange**](http://www.labri.fr/perso/schlick/outinfo/PDF/MemoCSS.pdf)\n",
    "\n",
    "> ***Tutos et Mémos LaTeX :***\n",
    "  [**Overleaf**](https://fr.overleaf.com/learn/latex/Learn_LaTeX_in_30_minutes) ●\n",
    "  [**latex-tutorial**](https://latex-tutorial.com/) ●\n",
    "  [**Tuto par Serge Varette**](http://www.labri.fr/perso/schlick/outinfo/PDF/TutoLaTeX.pdf) ●\n",
    "  [**Mémo par Winston Chang**](http://www.labri.fr/perso/schlick/outinfo/PDF/MemoLaTeX.pdf)\n"
   ]
  },
  {
   "cell_type": "markdown",
   "metadata": {},
   "source": [
    "<h2 style=\"padding:0 0 8px; margin:0 -20px; color:#FFF; background:#07D; text-align:right\">● ● ●</h3>"
   ]
  }
 ],
 "metadata": {
  "kernelspec": {
   "display_name": "Python 3 (ipykernel)",
   "language": "python",
   "name": "python3"
  },
  "language_info": {
   "codemirror_mode": {
    "name": "ipython",
    "version": 3
   },
   "file_extension": ".py",
   "mimetype": "text/x-python",
   "name": "python",
   "nbconvert_exporter": "python",
   "pygments_lexer": "ipython3",
   "version": "3.12.4"
  }
 },
 "nbformat": 4,
 "nbformat_minor": 4
}
