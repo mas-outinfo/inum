{
 "cells": [
  {
   "cell_type": "markdown",
   "metadata": {},
   "source": [
    "<p style=\"color:white; background:#07D; padding:12px; font-size:20px; font-style:italic; text-align:center\">\n",
    "<span style=\"width:49%; display:inline-block; text-align:left\">Christophe Schlick</span>\n",
    "<span style=\"width:49%; display:inline-block; text-align:right\">schlick[at]u-bordeaux.fr</span>\n",
    "<span style=\"font-size:40px; font-style:normal\"><b>GENERATION DE TRACÉS</b></span><br>\n",
    "<span style=\"width:49%; display:inline-block; text-align:left\">Version 2023-01</span>\n",
    "<span style=\"width:49%; display:inline-block; text-align:right\">Licence CC-BY-NC-ND</span></p>"
   ]
  },
  {
   "cell_type": "markdown",
   "metadata": {},
   "source": [
    "L'objectif de cette feuille d'exercices est d'illustrer le principe de ***génération de tracés par algorithmes***. Dans le vocabulaire lié à l'imagerie numérique, un **tracé** est une image créée par un ensemble de commandes graphiques permettant de décrire une image par le biais d'un langage de description.\n",
    "On ne va donc pas définir l'image pixel par pixel (comme on l'a fait dans la feuille d'exercices A) mais fournir des informations de plus haut niveau permettant à un interpréteur de construire l'image en fonction de la liste des commandes. Pour ce type de construction, on utilise également le terme d'***image vectorielle*** par opposition à ***image matricielle*** (= la grille de pixels), mais le terme **tracé** (**draw** en anglais) s'impose de plus en plus, depuis quelques années.\n",
    "\n",
    "L'ensemble des exercices vont mettre en oeuvre l'utilisation du langage Python pour générer ces tracés via l'écriture de code au format **SVG** (***Scalable Vector Graphics***). Nous verrons les éléments nécessaires du format **SVG** au fur et à mesure des exercices, mais un petit détour par un [**tutoriel SVG**](https://developer.mozilla.org/fr/docs/Web/SVG/Tutorial) qui détaille plus longuement les notions abordées peut s'avérer très utile.\n",
    "\n",
    "---\n",
    "Dans le notebook **03-IPython.ipynb**, nous avons vu le principe qui sera mis en oeuvre dans cette feuille d'exercices :\n",
    "\n",
    "- On crée une chaîne de caractères multi-lignes contenant le code SVG du tracé à construire\n",
    "- On affiche le tracé correspondant via la fonction **`dp.SVG`** du module **`IPython.display`**\n",
    "\n",
    "Voici un rappel de l'exemple SVG présenté dans le notebook sur IPython :"
   ]
  },
  {
   "cell_type": "code",
   "execution_count": 1,
   "metadata": {},
   "outputs": [],
   "source": [
    "import numpy as np # import du package 'numpy' avec alias 'np'\n",
    "import IPython.display as dp # import du package 'Ipython.display' avec alias 'dp'"
   ]
  },
  {
   "cell_type": "code",
   "execution_count": 2,
   "metadata": {
    "tags": []
   },
   "outputs": [
    {
     "data": {
      "image/svg+xml": [
       "<svg xmlns=\"http://www.w3.org/2000/svg\" viewBox=\"0 0 800 240\">\n",
       "  <g fill=\"#EEE\" stroke=\"#000\" stroke-width=\"2\">\n",
       "    <rect x=\"25\" y=\"25\" width=\"700\" height=\"200\" rx=\"25\" stroke-width=\"4\"/>\n",
       "    <ellipse cx=\"100\" cy=\"125\" rx=\"50\" ry=\"75\" fill=\"#F00\"/>\n",
       "    <ellipse cx=\"210\" cy=\"125\" rx=\"50\" ry=\"75\" fill=\"#0F0\"/>\n",
       "    <ellipse cx=\"320\" cy=\"125\" rx=\"50\" ry=\"75\" fill=\"#00F\"/>\n",
       "    <ellipse cx=\"430\" cy=\"125\" rx=\"50\" ry=\"75\" fill=\"#0FF\"/>\n",
       "    <ellipse cx=\"540\" cy=\"125\" rx=\"50\" ry=\"75\" fill=\"#F0F\"/>\n",
       "    <ellipse cx=\"650\" cy=\"125\" rx=\"50\" ry=\"75\" fill=\"#FF0\"/>\n",
       "  </g>\n",
       "</svg>"
      ],
      "text/plain": [
       "<IPython.core.display.SVG object>"
      ]
     },
     "execution_count": 2,
     "metadata": {},
     "output_type": "execute_result"
    }
   ],
   "source": [
    "# On crée une chaîne de caractères multi-lignes contenant du code SVG\n",
    "code = r\"\"\"\n",
    "<svg viewBox='0 0 800 240' xmlns='http://www.w3.org/2000/svg'>\n",
    "  <g fill='#EEE' stroke='#000' stroke-width='2'>\n",
    "    <rect x='25' y='25' width='700' height='200' rx='25' stroke-width='4'/>\n",
    "    <ellipse cx='100' cy='125' rx='50' ry='75' fill='#F00'/>\n",
    "    <ellipse cx='210' cy='125' rx='50' ry='75' fill='#0F0'/>\n",
    "    <ellipse cx='320' cy='125' rx='50' ry='75' fill='#00F'/>\n",
    "    <ellipse cx='430' cy='125' rx='50' ry='75' fill='#0FF'/>\n",
    "    <ellipse cx='540' cy='125' rx='50' ry='75' fill='#F0F'/>\n",
    "    <ellipse cx='650' cy='125' rx='50' ry='75' fill='#FF0'/>\n",
    "  </g>\n",
    "</svg>\n",
    "\"\"\"\n",
    "dp.SVG(code) # on affiche le tracé correspondant au code SVG via la fonction 'dp.SVG'"
   ]
  },
  {
   "cell_type": "markdown",
   "metadata": {},
   "source": [
    "Le code précédent est appelé **code SVG statique**, c'est-à-dire que les commandes SVG sont écrites avec des paramètres fixes et sont insérées dans une chaîne de caractère Python. Ce mécanisme fonctionne, mais  n'offre pas une grande flexibilité. Dans cette feuille d'exercices, nous allons au contraire générer du **code SVG dynamique** à l'aide de fonctions Python qui vont construire des commandes SVG en fonction des paramètres passés par l'utilisateur. Le principe général consiste générer chaque commande SVG sous forme de chaînes de caractères et à les stocker dans une liste qui sera fusionnée puis insérée entre les balises **`<svg>`** et **`</svg>`** :"
   ]
  },
  {
   "cell_type": "code",
   "execution_count": 3,
   "metadata": {},
   "outputs": [
    {
     "name": "stdout",
     "output_type": "stream",
     "text": [
      "\n",
      "<svg viewBox='0 0 640 320' width='640' xmlns='http://www.w3.org/2000/svg'>\n",
      "  <rect x='0' y='0' width='640' height='320' fill='#000'/>\n",
      "  <rect x='20' y='20' width='600' height='280' fill='#FFF'/>\n",
      "  <circle cx='120' cy='160' r='60' fill='#F00' stroke='#000' stroke-width='1'/>\n",
      "  <ellipse cx='320' cy='160' rx='100' ry='120' fill='#0F0' stroke='#000' stroke-width='1'/>\n",
      "  <circle cx='520' cy='160' r='60' fill='#00F' stroke='#000' stroke-width='1'/>\n",
      "</svg>\n",
      "\n"
     ]
    },
    {
     "data": {
      "image/svg+xml": [
       "<svg xmlns=\"http://www.w3.org/2000/svg\" viewBox=\"0 0 640 320\" width=\"640\">\n",
       "  <rect x=\"0\" y=\"0\" width=\"640\" height=\"320\" fill=\"#000\"/>\n",
       "  <rect x=\"20\" y=\"20\" width=\"600\" height=\"280\" fill=\"#FFF\"/>\n",
       "  <circle cx=\"120\" cy=\"160\" r=\"60\" fill=\"#F00\" stroke=\"#000\" stroke-width=\"1\"/>\n",
       "  <ellipse cx=\"320\" cy=\"160\" rx=\"100\" ry=\"120\" fill=\"#0F0\" stroke=\"#000\" stroke-width=\"1\"/>\n",
       "  <circle cx=\"520\" cy=\"160\" r=\"60\" fill=\"#00F\" stroke=\"#000\" stroke-width=\"1\"/>\n",
       "</svg>"
      ],
      "text/plain": [
       "<IPython.core.display.SVG object>"
      ]
     },
     "execution_count": 3,
     "metadata": {},
     "output_type": "execute_result"
    }
   ],
   "source": [
    "# fonction d'encapsulation de code SVG\n",
    "svg = lambda code: f\"\"\"\n",
    "<svg viewBox='0 0 640 320' width='640' xmlns='http://www.w3.org/2000/svg'>{''.join(code)}\\n</svg>\\n\"\"\"\n",
    "\n",
    "# fonction de tracé de rectangle avec remplissage de couleur uniforme\n",
    "rect = lambda x, y, w, h, fill: f\"\"\"\n",
    "  <rect x='{x}' y='{y}' width='{w}' height='{h}' fill='{fill}'/>\"\"\"\n",
    "\n",
    "# fonction de tracé de disque avec bordure noire et remplissage de couleur uniforme\n",
    "disk = lambda x, y, r, fill: f\"\"\"\n",
    "  <circle cx='{x}' cy='{y}' r='{r}' fill='{fill}' stroke='#000' stroke-width='1'/>\"\"\"\n",
    "\n",
    "# fonction de tracé d'ellipse avec bordure noire et remplissage de couleur uniforme\n",
    "oval = lambda x, y, rx, ry, fill: f\"\"\"\n",
    "  <ellipse cx='{x}' cy='{y}' rx='{rx}' ry='{ry}' fill='{fill}' stroke='#000' stroke-width='1'/>\"\"\"\n",
    "\n",
    "code = [ # le code est défini par une liste d'appels de fonctions, chacune retournant du code SVG\n",
    "  rect(0, 0, 640, 320, '#000'), rect(20, 20, 600, 280, '#FFF'),\n",
    "  disk(120, 160, 60, '#F00'), oval(320, 160, 100, 120, '#0F0'), disk(520, 160, 60, '#00F')\n",
    "]\n",
    "\n",
    "print(svg(code)) # affichage du code SVG généré\n",
    "#with open('test.svg','w') as file: print(svg(code), file=file) # sauvegarde du code dans un fichier SVG\n",
    "dp.SVG(svg(code)) # affichage du tracé au format SVG"
   ]
  },
  {
   "cell_type": "markdown",
   "metadata": {
    "tags": []
   },
   "source": [
    "<h2 style=\"padding:16px; color:white; background:#07D\">Exercice B1 - Utilisation des formes de base</h2>\n",
    "\n",
    "Ecrire les instructions Python/SVG permettant de générer les 12 images de la figure ci-dessous. Chaque image individuelle devra utiliser la balise SVG suivante, pour obtenir un tracé initial de taille 240 sur 240 (mais évidemment, comme c'est un tracé, on pourra le redimensionner de manière arbitraire) :\n",
    "\n",
    "**```<svg viewBox='0 0 240 240' width='240' xmlns='http://www.w3.org/2000/svg'>```**\n",
    "\n",
    "Vous aurez besoin des balises SVG suivantes :\n",
    "\n",
    "- **`<rect x=... y=... width=... height=... fill=... />`**\n",
    "- **`<circle cx=... cy=... r=... fill=... />`**\n",
    "- **`<ellipse cx=... cy=... rx=... ry=... fill=... />`**\n",
    "\n",
    "![](IMG/shapes.png 'shapes.png')"
   ]
  },
  {
   "cell_type": "code",
   "execution_count": 12,
   "metadata": {},
   "outputs": [],
   "source": [
    "W, H = 240, 240 # définition de la taille de l'image à générer\n",
    "\n",
    "# fonction d'encapsulation de code SVG (utilisant les variables globales W et H)\n",
    "svg = lambda code: f\"\"\"\n",
    "<svg viewBox='0 0 {W} {H}' width='{W}' xmlns='http://www.w3.org/2000/svg'>{''.join(code)}\\n</svg>\\n\"\"\"\n",
    "\n",
    "KW = '#000 #FFF'.split() # palette binaire (noir et blanc au format '#RGB')\n",
    "RGBCMY = '#F00 #0F0 #00F #0FF #F0F #FF0'.split() # palette de 6 couleurs (RGBCMY)"
   ]
  },
  {
   "cell_type": "code",
   "execution_count": 13,
   "metadata": {},
   "outputs": [
    {
     "data": {
      "image/svg+xml": [
       "<svg xmlns=\"http://www.w3.org/2000/svg\" viewBox=\"0 0 240 240\" width=\"240\">\n",
       "  <rect x=\"0\" y=\"0.0\" width=\"240\" height=\"6.0\" fill=\"#000\"/>\n",
       "  <rect x=\"0\" y=\"6.0\" width=\"240\" height=\"6.0\" fill=\"#FFF\"/>\n",
       "  <rect x=\"0\" y=\"12.0\" width=\"240\" height=\"6.0\" fill=\"#000\"/>\n",
       "  <rect x=\"0\" y=\"18.0\" width=\"240\" height=\"6.0\" fill=\"#FFF\"/>\n",
       "  <rect x=\"0\" y=\"24.0\" width=\"240\" height=\"6.0\" fill=\"#000\"/>\n",
       "  <rect x=\"0\" y=\"30.0\" width=\"240\" height=\"6.0\" fill=\"#FFF\"/>\n",
       "  <rect x=\"0\" y=\"36.0\" width=\"240\" height=\"6.0\" fill=\"#000\"/>\n",
       "  <rect x=\"0\" y=\"42.0\" width=\"240\" height=\"6.0\" fill=\"#FFF\"/>\n",
       "  <rect x=\"0\" y=\"48.0\" width=\"240\" height=\"6.0\" fill=\"#000\"/>\n",
       "  <rect x=\"0\" y=\"54.0\" width=\"240\" height=\"6.0\" fill=\"#FFF\"/>\n",
       "  <rect x=\"0\" y=\"60.0\" width=\"240\" height=\"6.0\" fill=\"#000\"/>\n",
       "  <rect x=\"0\" y=\"66.0\" width=\"240\" height=\"6.0\" fill=\"#FFF\"/>\n",
       "  <rect x=\"0\" y=\"72.0\" width=\"240\" height=\"6.0\" fill=\"#000\"/>\n",
       "  <rect x=\"0\" y=\"78.0\" width=\"240\" height=\"6.0\" fill=\"#FFF\"/>\n",
       "  <rect x=\"0\" y=\"84.0\" width=\"240\" height=\"6.0\" fill=\"#000\"/>\n",
       "  <rect x=\"0\" y=\"90.0\" width=\"240\" height=\"6.0\" fill=\"#FFF\"/>\n",
       "  <rect x=\"0\" y=\"96.0\" width=\"240\" height=\"6.0\" fill=\"#000\"/>\n",
       "  <rect x=\"0\" y=\"102.0\" width=\"240\" height=\"6.0\" fill=\"#FFF\"/>\n",
       "  <rect x=\"0\" y=\"108.0\" width=\"240\" height=\"6.0\" fill=\"#000\"/>\n",
       "  <rect x=\"0\" y=\"114.0\" width=\"240\" height=\"6.0\" fill=\"#FFF\"/>\n",
       "  <rect x=\"0\" y=\"120.0\" width=\"240\" height=\"6.0\" fill=\"#000\"/>\n",
       "  <rect x=\"0\" y=\"126.0\" width=\"240\" height=\"6.0\" fill=\"#FFF\"/>\n",
       "  <rect x=\"0\" y=\"132.0\" width=\"240\" height=\"6.0\" fill=\"#000\"/>\n",
       "  <rect x=\"0\" y=\"138.0\" width=\"240\" height=\"6.0\" fill=\"#FFF\"/>\n",
       "  <rect x=\"0\" y=\"144.0\" width=\"240\" height=\"6.0\" fill=\"#000\"/>\n",
       "  <rect x=\"0\" y=\"150.0\" width=\"240\" height=\"6.0\" fill=\"#FFF\"/>\n",
       "  <rect x=\"0\" y=\"156.0\" width=\"240\" height=\"6.0\" fill=\"#000\"/>\n",
       "  <rect x=\"0\" y=\"162.0\" width=\"240\" height=\"6.0\" fill=\"#FFF\"/>\n",
       "  <rect x=\"0\" y=\"168.0\" width=\"240\" height=\"6.0\" fill=\"#000\"/>\n",
       "  <rect x=\"0\" y=\"174.0\" width=\"240\" height=\"6.0\" fill=\"#FFF\"/>\n",
       "  <rect x=\"0\" y=\"180.0\" width=\"240\" height=\"6.0\" fill=\"#000\"/>\n",
       "  <rect x=\"0\" y=\"186.0\" width=\"240\" height=\"6.0\" fill=\"#FFF\"/>\n",
       "  <rect x=\"0\" y=\"192.0\" width=\"240\" height=\"6.0\" fill=\"#000\"/>\n",
       "  <rect x=\"0\" y=\"198.0\" width=\"240\" height=\"6.0\" fill=\"#FFF\"/>\n",
       "  <rect x=\"0\" y=\"204.0\" width=\"240\" height=\"6.0\" fill=\"#000\"/>\n",
       "  <rect x=\"0\" y=\"210.0\" width=\"240\" height=\"6.0\" fill=\"#FFF\"/>\n",
       "  <rect x=\"0\" y=\"216.0\" width=\"240\" height=\"6.0\" fill=\"#000\"/>\n",
       "  <rect x=\"0\" y=\"222.0\" width=\"240\" height=\"6.0\" fill=\"#FFF\"/>\n",
       "  <rect x=\"0\" y=\"228.0\" width=\"240\" height=\"6.0\" fill=\"#000\"/>\n",
       "  <rect x=\"0\" y=\"234.0\" width=\"240\" height=\"6.0\" fill=\"#FFF\"/>\n",
       "</svg>"
      ],
      "text/plain": [
       "<IPython.core.display.SVG object>"
      ]
     },
     "execution_count": 13,
     "metadata": {},
     "output_type": "execute_result"
    }
   ],
   "source": [
    "def stripes(rows, width, height, fills):\n",
    "  \"\"\"generate horizontal stripes with alternating filling colors\"\"\"\n",
    "  h, n = height/rows, len(fills)\n",
    "  return [rect(0, r*h, width, h, fills[r%n]) for r in range(rows)]\n",
    "\n",
    "code = stripes(40, W, H, KW) # 40 lignes horizontales, alternance noir et blanc\n",
    "#code = stripes(40, W, H, RGBCMY) # 40 lignes horizontales, alternance RGBCMY\n",
    "\n",
    "def tiles(cols, rows, width, height, fills):\n",
    "  \"\"\"generate rectangular tiles with alternating filling colors\"\"\"\n",
    "  w, h, n = width/cols, height/rows, len(fills)\n",
    "  return [rect(c*w, r*h, w, h, fills[(r+c)%n]) for r in range(rows) for c in range(cols)]\n",
    "\n",
    "#code = tiles(8, 8, W, H, KW)\n",
    "#code = tiles(8, 8, W, H, RGBCMY)\n",
    "\n",
    "def boxes(steps, width, height, fills):\n",
    "  \"\"\"generate concentric boxes with alternating filling colors\"\"\"\n",
    "  w, h, n = width/(2*steps-1), height/(2*steps-1), len(fills)\n",
    "  return [rect(s*w, s*h, width-2*s*w, height-2*s*h, fills[s%n]) for s in range(steps)]\n",
    "\n",
    "#code = boxes(8, W, H, KW)\n",
    "#code = boxes(8, W, H, RGBCMY)\n",
    "\n",
    "#print(svg(code)) # enlever le commentaire pour voir le code SVG généré\n",
    "dp.SVG(svg(code)) # affichage du tracé au format SVG"
   ]
  },
  {
   "cell_type": "code",
   "execution_count": 5,
   "metadata": {},
   "outputs": [
    {
     "data": {
      "image/svg+xml": [
       "<svg xmlns=\"http://www.w3.org/2000/svg\" viewBox=\"0 0 240 240\" width=\"240\">\n",
       "  <circle cx=\"0.0\" cy=\"0.0\" r=\"10.0\" fill=\"#DDD\" stroke=\"#000\" stroke-width=\"1\"/>\n",
       "  <circle cx=\"0.0\" cy=\"40.0\" r=\"10.0\" fill=\"#DDD\" stroke=\"#000\" stroke-width=\"1\"/>\n",
       "  <circle cx=\"0.0\" cy=\"80.0\" r=\"10.0\" fill=\"#DDD\" stroke=\"#000\" stroke-width=\"1\"/>\n",
       "  <circle cx=\"0.0\" cy=\"120.0\" r=\"10.0\" fill=\"#DDD\" stroke=\"#000\" stroke-width=\"1\"/>\n",
       "  <circle cx=\"0.0\" cy=\"160.0\" r=\"10.0\" fill=\"#DDD\" stroke=\"#000\" stroke-width=\"1\"/>\n",
       "  <circle cx=\"0.0\" cy=\"200.0\" r=\"10.0\" fill=\"#DDD\" stroke=\"#000\" stroke-width=\"1\"/>\n",
       "  <circle cx=\"0.0\" cy=\"240.0\" r=\"10.0\" fill=\"#DDD\" stroke=\"#000\" stroke-width=\"1\"/>\n",
       "  <circle cx=\"24.0\" cy=\"0.0\" r=\"10.0\" fill=\"#DDD\" stroke=\"#000\" stroke-width=\"1\"/>\n",
       "  <circle cx=\"24.0\" cy=\"40.0\" r=\"10.0\" fill=\"#DDD\" stroke=\"#000\" stroke-width=\"1\"/>\n",
       "  <circle cx=\"24.0\" cy=\"80.0\" r=\"10.0\" fill=\"#DDD\" stroke=\"#000\" stroke-width=\"1\"/>\n",
       "  <circle cx=\"24.0\" cy=\"120.0\" r=\"10.0\" fill=\"#DDD\" stroke=\"#000\" stroke-width=\"1\"/>\n",
       "  <circle cx=\"24.0\" cy=\"160.0\" r=\"10.0\" fill=\"#DDD\" stroke=\"#000\" stroke-width=\"1\"/>\n",
       "  <circle cx=\"24.0\" cy=\"200.0\" r=\"10.0\" fill=\"#DDD\" stroke=\"#000\" stroke-width=\"1\"/>\n",
       "  <circle cx=\"24.0\" cy=\"240.0\" r=\"10.0\" fill=\"#DDD\" stroke=\"#000\" stroke-width=\"1\"/>\n",
       "  <circle cx=\"48.0\" cy=\"0.0\" r=\"10.0\" fill=\"#DDD\" stroke=\"#000\" stroke-width=\"1\"/>\n",
       "  <circle cx=\"48.0\" cy=\"40.0\" r=\"10.0\" fill=\"#DDD\" stroke=\"#000\" stroke-width=\"1\"/>\n",
       "  <circle cx=\"48.0\" cy=\"80.0\" r=\"10.0\" fill=\"#DDD\" stroke=\"#000\" stroke-width=\"1\"/>\n",
       "  <circle cx=\"48.0\" cy=\"120.0\" r=\"10.0\" fill=\"#DDD\" stroke=\"#000\" stroke-width=\"1\"/>\n",
       "  <circle cx=\"48.0\" cy=\"160.0\" r=\"10.0\" fill=\"#DDD\" stroke=\"#000\" stroke-width=\"1\"/>\n",
       "  <circle cx=\"48.0\" cy=\"200.0\" r=\"10.0\" fill=\"#DDD\" stroke=\"#000\" stroke-width=\"1\"/>\n",
       "  <circle cx=\"48.0\" cy=\"240.0\" r=\"10.0\" fill=\"#DDD\" stroke=\"#000\" stroke-width=\"1\"/>\n",
       "  <circle cx=\"72.0\" cy=\"0.0\" r=\"10.0\" fill=\"#DDD\" stroke=\"#000\" stroke-width=\"1\"/>\n",
       "  <circle cx=\"72.0\" cy=\"40.0\" r=\"10.0\" fill=\"#DDD\" stroke=\"#000\" stroke-width=\"1\"/>\n",
       "  <circle cx=\"72.0\" cy=\"80.0\" r=\"10.0\" fill=\"#DDD\" stroke=\"#000\" stroke-width=\"1\"/>\n",
       "  <circle cx=\"72.0\" cy=\"120.0\" r=\"10.0\" fill=\"#DDD\" stroke=\"#000\" stroke-width=\"1\"/>\n",
       "  <circle cx=\"72.0\" cy=\"160.0\" r=\"10.0\" fill=\"#DDD\" stroke=\"#000\" stroke-width=\"1\"/>\n",
       "  <circle cx=\"72.0\" cy=\"200.0\" r=\"10.0\" fill=\"#DDD\" stroke=\"#000\" stroke-width=\"1\"/>\n",
       "  <circle cx=\"72.0\" cy=\"240.0\" r=\"10.0\" fill=\"#DDD\" stroke=\"#000\" stroke-width=\"1\"/>\n",
       "  <circle cx=\"96.0\" cy=\"0.0\" r=\"10.0\" fill=\"#DDD\" stroke=\"#000\" stroke-width=\"1\"/>\n",
       "  <circle cx=\"96.0\" cy=\"40.0\" r=\"10.0\" fill=\"#DDD\" stroke=\"#000\" stroke-width=\"1\"/>\n",
       "  <circle cx=\"96.0\" cy=\"80.0\" r=\"10.0\" fill=\"#DDD\" stroke=\"#000\" stroke-width=\"1\"/>\n",
       "  <circle cx=\"96.0\" cy=\"120.0\" r=\"10.0\" fill=\"#DDD\" stroke=\"#000\" stroke-width=\"1\"/>\n",
       "  <circle cx=\"96.0\" cy=\"160.0\" r=\"10.0\" fill=\"#DDD\" stroke=\"#000\" stroke-width=\"1\"/>\n",
       "  <circle cx=\"96.0\" cy=\"200.0\" r=\"10.0\" fill=\"#DDD\" stroke=\"#000\" stroke-width=\"1\"/>\n",
       "  <circle cx=\"96.0\" cy=\"240.0\" r=\"10.0\" fill=\"#DDD\" stroke=\"#000\" stroke-width=\"1\"/>\n",
       "  <circle cx=\"120.0\" cy=\"0.0\" r=\"10.0\" fill=\"#DDD\" stroke=\"#000\" stroke-width=\"1\"/>\n",
       "  <circle cx=\"120.0\" cy=\"40.0\" r=\"10.0\" fill=\"#DDD\" stroke=\"#000\" stroke-width=\"1\"/>\n",
       "  <circle cx=\"120.0\" cy=\"80.0\" r=\"10.0\" fill=\"#DDD\" stroke=\"#000\" stroke-width=\"1\"/>\n",
       "  <circle cx=\"120.0\" cy=\"120.0\" r=\"10.0\" fill=\"#DDD\" stroke=\"#000\" stroke-width=\"1\"/>\n",
       "  <circle cx=\"120.0\" cy=\"160.0\" r=\"10.0\" fill=\"#DDD\" stroke=\"#000\" stroke-width=\"1\"/>\n",
       "  <circle cx=\"120.0\" cy=\"200.0\" r=\"10.0\" fill=\"#DDD\" stroke=\"#000\" stroke-width=\"1\"/>\n",
       "  <circle cx=\"120.0\" cy=\"240.0\" r=\"10.0\" fill=\"#DDD\" stroke=\"#000\" stroke-width=\"1\"/>\n",
       "  <circle cx=\"144.0\" cy=\"0.0\" r=\"10.0\" fill=\"#DDD\" stroke=\"#000\" stroke-width=\"1\"/>\n",
       "  <circle cx=\"144.0\" cy=\"40.0\" r=\"10.0\" fill=\"#DDD\" stroke=\"#000\" stroke-width=\"1\"/>\n",
       "  <circle cx=\"144.0\" cy=\"80.0\" r=\"10.0\" fill=\"#DDD\" stroke=\"#000\" stroke-width=\"1\"/>\n",
       "  <circle cx=\"144.0\" cy=\"120.0\" r=\"10.0\" fill=\"#DDD\" stroke=\"#000\" stroke-width=\"1\"/>\n",
       "  <circle cx=\"144.0\" cy=\"160.0\" r=\"10.0\" fill=\"#DDD\" stroke=\"#000\" stroke-width=\"1\"/>\n",
       "  <circle cx=\"144.0\" cy=\"200.0\" r=\"10.0\" fill=\"#DDD\" stroke=\"#000\" stroke-width=\"1\"/>\n",
       "  <circle cx=\"144.0\" cy=\"240.0\" r=\"10.0\" fill=\"#DDD\" stroke=\"#000\" stroke-width=\"1\"/>\n",
       "  <circle cx=\"168.0\" cy=\"0.0\" r=\"10.0\" fill=\"#DDD\" stroke=\"#000\" stroke-width=\"1\"/>\n",
       "  <circle cx=\"168.0\" cy=\"40.0\" r=\"10.0\" fill=\"#DDD\" stroke=\"#000\" stroke-width=\"1\"/>\n",
       "  <circle cx=\"168.0\" cy=\"80.0\" r=\"10.0\" fill=\"#DDD\" stroke=\"#000\" stroke-width=\"1\"/>\n",
       "  <circle cx=\"168.0\" cy=\"120.0\" r=\"10.0\" fill=\"#DDD\" stroke=\"#000\" stroke-width=\"1\"/>\n",
       "  <circle cx=\"168.0\" cy=\"160.0\" r=\"10.0\" fill=\"#DDD\" stroke=\"#000\" stroke-width=\"1\"/>\n",
       "  <circle cx=\"168.0\" cy=\"200.0\" r=\"10.0\" fill=\"#DDD\" stroke=\"#000\" stroke-width=\"1\"/>\n",
       "  <circle cx=\"168.0\" cy=\"240.0\" r=\"10.0\" fill=\"#DDD\" stroke=\"#000\" stroke-width=\"1\"/>\n",
       "  <circle cx=\"192.0\" cy=\"0.0\" r=\"10.0\" fill=\"#DDD\" stroke=\"#000\" stroke-width=\"1\"/>\n",
       "  <circle cx=\"192.0\" cy=\"40.0\" r=\"10.0\" fill=\"#DDD\" stroke=\"#000\" stroke-width=\"1\"/>\n",
       "  <circle cx=\"192.0\" cy=\"80.0\" r=\"10.0\" fill=\"#DDD\" stroke=\"#000\" stroke-width=\"1\"/>\n",
       "  <circle cx=\"192.0\" cy=\"120.0\" r=\"10.0\" fill=\"#DDD\" stroke=\"#000\" stroke-width=\"1\"/>\n",
       "  <circle cx=\"192.0\" cy=\"160.0\" r=\"10.0\" fill=\"#DDD\" stroke=\"#000\" stroke-width=\"1\"/>\n",
       "  <circle cx=\"192.0\" cy=\"200.0\" r=\"10.0\" fill=\"#DDD\" stroke=\"#000\" stroke-width=\"1\"/>\n",
       "  <circle cx=\"192.0\" cy=\"240.0\" r=\"10.0\" fill=\"#DDD\" stroke=\"#000\" stroke-width=\"1\"/>\n",
       "  <circle cx=\"216.0\" cy=\"0.0\" r=\"10.0\" fill=\"#DDD\" stroke=\"#000\" stroke-width=\"1\"/>\n",
       "  <circle cx=\"216.0\" cy=\"40.0\" r=\"10.0\" fill=\"#DDD\" stroke=\"#000\" stroke-width=\"1\"/>\n",
       "  <circle cx=\"216.0\" cy=\"80.0\" r=\"10.0\" fill=\"#DDD\" stroke=\"#000\" stroke-width=\"1\"/>\n",
       "  <circle cx=\"216.0\" cy=\"120.0\" r=\"10.0\" fill=\"#DDD\" stroke=\"#000\" stroke-width=\"1\"/>\n",
       "  <circle cx=\"216.0\" cy=\"160.0\" r=\"10.0\" fill=\"#DDD\" stroke=\"#000\" stroke-width=\"1\"/>\n",
       "  <circle cx=\"216.0\" cy=\"200.0\" r=\"10.0\" fill=\"#DDD\" stroke=\"#000\" stroke-width=\"1\"/>\n",
       "  <circle cx=\"216.0\" cy=\"240.0\" r=\"10.0\" fill=\"#DDD\" stroke=\"#000\" stroke-width=\"1\"/>\n",
       "  <circle cx=\"240.0\" cy=\"0.0\" r=\"10.0\" fill=\"#DDD\" stroke=\"#000\" stroke-width=\"1\"/>\n",
       "  <circle cx=\"240.0\" cy=\"40.0\" r=\"10.0\" fill=\"#DDD\" stroke=\"#000\" stroke-width=\"1\"/>\n",
       "  <circle cx=\"240.0\" cy=\"80.0\" r=\"10.0\" fill=\"#DDD\" stroke=\"#000\" stroke-width=\"1\"/>\n",
       "  <circle cx=\"240.0\" cy=\"120.0\" r=\"10.0\" fill=\"#DDD\" stroke=\"#000\" stroke-width=\"1\"/>\n",
       "  <circle cx=\"240.0\" cy=\"160.0\" r=\"10.0\" fill=\"#DDD\" stroke=\"#000\" stroke-width=\"1\"/>\n",
       "  <circle cx=\"240.0\" cy=\"200.0\" r=\"10.0\" fill=\"#DDD\" stroke=\"#000\" stroke-width=\"1\"/>\n",
       "  <circle cx=\"240.0\" cy=\"240.0\" r=\"10.0\" fill=\"#DDD\" stroke=\"#000\" stroke-width=\"1\"/>\n",
       "  <circle cx=\"12.0\" cy=\"20.0\" r=\"10.0\" fill=\"#DDD\" stroke=\"#000\" stroke-width=\"1\"/>\n",
       "  <circle cx=\"12.0\" cy=\"60.0\" r=\"10.0\" fill=\"#DDD\" stroke=\"#000\" stroke-width=\"1\"/>\n",
       "  <circle cx=\"12.0\" cy=\"100.0\" r=\"10.0\" fill=\"#DDD\" stroke=\"#000\" stroke-width=\"1\"/>\n",
       "  <circle cx=\"12.0\" cy=\"140.0\" r=\"10.0\" fill=\"#DDD\" stroke=\"#000\" stroke-width=\"1\"/>\n",
       "  <circle cx=\"12.0\" cy=\"180.0\" r=\"10.0\" fill=\"#DDD\" stroke=\"#000\" stroke-width=\"1\"/>\n",
       "  <circle cx=\"12.0\" cy=\"220.0\" r=\"10.0\" fill=\"#DDD\" stroke=\"#000\" stroke-width=\"1\"/>\n",
       "  <circle cx=\"36.0\" cy=\"20.0\" r=\"10.0\" fill=\"#DDD\" stroke=\"#000\" stroke-width=\"1\"/>\n",
       "  <circle cx=\"36.0\" cy=\"60.0\" r=\"10.0\" fill=\"#DDD\" stroke=\"#000\" stroke-width=\"1\"/>\n",
       "  <circle cx=\"36.0\" cy=\"100.0\" r=\"10.0\" fill=\"#DDD\" stroke=\"#000\" stroke-width=\"1\"/>\n",
       "  <circle cx=\"36.0\" cy=\"140.0\" r=\"10.0\" fill=\"#DDD\" stroke=\"#000\" stroke-width=\"1\"/>\n",
       "  <circle cx=\"36.0\" cy=\"180.0\" r=\"10.0\" fill=\"#DDD\" stroke=\"#000\" stroke-width=\"1\"/>\n",
       "  <circle cx=\"36.0\" cy=\"220.0\" r=\"10.0\" fill=\"#DDD\" stroke=\"#000\" stroke-width=\"1\"/>\n",
       "  <circle cx=\"60.0\" cy=\"20.0\" r=\"10.0\" fill=\"#DDD\" stroke=\"#000\" stroke-width=\"1\"/>\n",
       "  <circle cx=\"60.0\" cy=\"60.0\" r=\"10.0\" fill=\"#DDD\" stroke=\"#000\" stroke-width=\"1\"/>\n",
       "  <circle cx=\"60.0\" cy=\"100.0\" r=\"10.0\" fill=\"#DDD\" stroke=\"#000\" stroke-width=\"1\"/>\n",
       "  <circle cx=\"60.0\" cy=\"140.0\" r=\"10.0\" fill=\"#DDD\" stroke=\"#000\" stroke-width=\"1\"/>\n",
       "  <circle cx=\"60.0\" cy=\"180.0\" r=\"10.0\" fill=\"#DDD\" stroke=\"#000\" stroke-width=\"1\"/>\n",
       "  <circle cx=\"60.0\" cy=\"220.0\" r=\"10.0\" fill=\"#DDD\" stroke=\"#000\" stroke-width=\"1\"/>\n",
       "  <circle cx=\"84.0\" cy=\"20.0\" r=\"10.0\" fill=\"#DDD\" stroke=\"#000\" stroke-width=\"1\"/>\n",
       "  <circle cx=\"84.0\" cy=\"60.0\" r=\"10.0\" fill=\"#DDD\" stroke=\"#000\" stroke-width=\"1\"/>\n",
       "  <circle cx=\"84.0\" cy=\"100.0\" r=\"10.0\" fill=\"#DDD\" stroke=\"#000\" stroke-width=\"1\"/>\n",
       "  <circle cx=\"84.0\" cy=\"140.0\" r=\"10.0\" fill=\"#DDD\" stroke=\"#000\" stroke-width=\"1\"/>\n",
       "  <circle cx=\"84.0\" cy=\"180.0\" r=\"10.0\" fill=\"#DDD\" stroke=\"#000\" stroke-width=\"1\"/>\n",
       "  <circle cx=\"84.0\" cy=\"220.0\" r=\"10.0\" fill=\"#DDD\" stroke=\"#000\" stroke-width=\"1\"/>\n",
       "  <circle cx=\"108.0\" cy=\"20.0\" r=\"10.0\" fill=\"#DDD\" stroke=\"#000\" stroke-width=\"1\"/>\n",
       "  <circle cx=\"108.0\" cy=\"60.0\" r=\"10.0\" fill=\"#DDD\" stroke=\"#000\" stroke-width=\"1\"/>\n",
       "  <circle cx=\"108.0\" cy=\"100.0\" r=\"10.0\" fill=\"#DDD\" stroke=\"#000\" stroke-width=\"1\"/>\n",
       "  <circle cx=\"108.0\" cy=\"140.0\" r=\"10.0\" fill=\"#DDD\" stroke=\"#000\" stroke-width=\"1\"/>\n",
       "  <circle cx=\"108.0\" cy=\"180.0\" r=\"10.0\" fill=\"#DDD\" stroke=\"#000\" stroke-width=\"1\"/>\n",
       "  <circle cx=\"108.0\" cy=\"220.0\" r=\"10.0\" fill=\"#DDD\" stroke=\"#000\" stroke-width=\"1\"/>\n",
       "  <circle cx=\"132.0\" cy=\"20.0\" r=\"10.0\" fill=\"#DDD\" stroke=\"#000\" stroke-width=\"1\"/>\n",
       "  <circle cx=\"132.0\" cy=\"60.0\" r=\"10.0\" fill=\"#DDD\" stroke=\"#000\" stroke-width=\"1\"/>\n",
       "  <circle cx=\"132.0\" cy=\"100.0\" r=\"10.0\" fill=\"#DDD\" stroke=\"#000\" stroke-width=\"1\"/>\n",
       "  <circle cx=\"132.0\" cy=\"140.0\" r=\"10.0\" fill=\"#DDD\" stroke=\"#000\" stroke-width=\"1\"/>\n",
       "  <circle cx=\"132.0\" cy=\"180.0\" r=\"10.0\" fill=\"#DDD\" stroke=\"#000\" stroke-width=\"1\"/>\n",
       "  <circle cx=\"132.0\" cy=\"220.0\" r=\"10.0\" fill=\"#DDD\" stroke=\"#000\" stroke-width=\"1\"/>\n",
       "  <circle cx=\"156.0\" cy=\"20.0\" r=\"10.0\" fill=\"#DDD\" stroke=\"#000\" stroke-width=\"1\"/>\n",
       "  <circle cx=\"156.0\" cy=\"60.0\" r=\"10.0\" fill=\"#DDD\" stroke=\"#000\" stroke-width=\"1\"/>\n",
       "  <circle cx=\"156.0\" cy=\"100.0\" r=\"10.0\" fill=\"#DDD\" stroke=\"#000\" stroke-width=\"1\"/>\n",
       "  <circle cx=\"156.0\" cy=\"140.0\" r=\"10.0\" fill=\"#DDD\" stroke=\"#000\" stroke-width=\"1\"/>\n",
       "  <circle cx=\"156.0\" cy=\"180.0\" r=\"10.0\" fill=\"#DDD\" stroke=\"#000\" stroke-width=\"1\"/>\n",
       "  <circle cx=\"156.0\" cy=\"220.0\" r=\"10.0\" fill=\"#DDD\" stroke=\"#000\" stroke-width=\"1\"/>\n",
       "  <circle cx=\"180.0\" cy=\"20.0\" r=\"10.0\" fill=\"#DDD\" stroke=\"#000\" stroke-width=\"1\"/>\n",
       "  <circle cx=\"180.0\" cy=\"60.0\" r=\"10.0\" fill=\"#DDD\" stroke=\"#000\" stroke-width=\"1\"/>\n",
       "  <circle cx=\"180.0\" cy=\"100.0\" r=\"10.0\" fill=\"#DDD\" stroke=\"#000\" stroke-width=\"1\"/>\n",
       "  <circle cx=\"180.0\" cy=\"140.0\" r=\"10.0\" fill=\"#DDD\" stroke=\"#000\" stroke-width=\"1\"/>\n",
       "  <circle cx=\"180.0\" cy=\"180.0\" r=\"10.0\" fill=\"#DDD\" stroke=\"#000\" stroke-width=\"1\"/>\n",
       "  <circle cx=\"180.0\" cy=\"220.0\" r=\"10.0\" fill=\"#DDD\" stroke=\"#000\" stroke-width=\"1\"/>\n",
       "  <circle cx=\"204.0\" cy=\"20.0\" r=\"10.0\" fill=\"#DDD\" stroke=\"#000\" stroke-width=\"1\"/>\n",
       "  <circle cx=\"204.0\" cy=\"60.0\" r=\"10.0\" fill=\"#DDD\" stroke=\"#000\" stroke-width=\"1\"/>\n",
       "  <circle cx=\"204.0\" cy=\"100.0\" r=\"10.0\" fill=\"#DDD\" stroke=\"#000\" stroke-width=\"1\"/>\n",
       "  <circle cx=\"204.0\" cy=\"140.0\" r=\"10.0\" fill=\"#DDD\" stroke=\"#000\" stroke-width=\"1\"/>\n",
       "  <circle cx=\"204.0\" cy=\"180.0\" r=\"10.0\" fill=\"#DDD\" stroke=\"#000\" stroke-width=\"1\"/>\n",
       "  <circle cx=\"204.0\" cy=\"220.0\" r=\"10.0\" fill=\"#DDD\" stroke=\"#000\" stroke-width=\"1\"/>\n",
       "  <circle cx=\"228.0\" cy=\"20.0\" r=\"10.0\" fill=\"#DDD\" stroke=\"#000\" stroke-width=\"1\"/>\n",
       "  <circle cx=\"228.0\" cy=\"60.0\" r=\"10.0\" fill=\"#DDD\" stroke=\"#000\" stroke-width=\"1\"/>\n",
       "  <circle cx=\"228.0\" cy=\"100.0\" r=\"10.0\" fill=\"#DDD\" stroke=\"#000\" stroke-width=\"1\"/>\n",
       "  <circle cx=\"228.0\" cy=\"140.0\" r=\"10.0\" fill=\"#DDD\" stroke=\"#000\" stroke-width=\"1\"/>\n",
       "  <circle cx=\"228.0\" cy=\"180.0\" r=\"10.0\" fill=\"#DDD\" stroke=\"#000\" stroke-width=\"1\"/>\n",
       "  <circle cx=\"228.0\" cy=\"220.0\" r=\"10.0\" fill=\"#DDD\" stroke=\"#000\" stroke-width=\"1\"/>\n",
       "</svg>"
      ],
      "text/plain": [
       "<IPython.core.display.SVG object>"
      ]
     },
     "execution_count": 5,
     "metadata": {},
     "output_type": "execute_result"
    }
   ],
   "source": [
    "def quincunx(cols, rows, width, height, fills, pad=2):\n",
    "  \"\"\"generate a quincunx pattern of disks with alternating filling colors\"\"\"\n",
    "  w, h, n = width/cols, height/rows, len(fills)\n",
    "  radius = 0.5*w - pad # on réduit le rayon du disque par la marge souhaitée\n",
    "  # on construit les lignes paires, puis les lignes impaires avec décalage (0.5*w, 0.5*h)\n",
    "  code  = [disk(w*c, h*r, radius, fills[c%n]) for c in range(1+cols) for r in range(1+rows)]\n",
    "  code += [disk(w*(0.5+c), h*(0.5+r), radius, fills[(c-1)%n]) for c in range(cols) for r in range(rows)]\n",
    "  return code\n",
    "\n",
    "code = quincunx(10, 6, W, H, ['#DDD'])\n",
    "#code = quincunx(10, 6, W, H, RGBCMY[:3])\n",
    "#code = quincunx(10, 6, W, H, RGBCMY[-3:], 0)\n",
    "\n",
    "#print(svg(code)) # enlever le commentaire pour voir le code SVG généré\n",
    "dp.SVG(svg(code)) # affichage du tracé au format SVG"
   ]
  },
  {
   "cell_type": "code",
   "execution_count": null,
   "metadata": {},
   "outputs": [],
   "source": [
    "def spiral(steps, width, height, fills):\n",
    "  \"\"\"create a spiral pattern of disks with alternating filling colors\"\"\"\n",
    "  # TODO\n",
    "  return []\n",
    "\n",
    "code = spiral(300, W, H, ['#DDD'])\n",
    "#code = spiral(300, W, H, KW)\n",
    "#code = spiral(300, W, H, RGBCMY)\n",
    "\n",
    "#print(svg(code)) # enlever le commentaire pour voir le code SVG généré\n",
    "dp.SVG(svg(code)) # affichage du tracé au format SVG"
   ]
  },
  {
   "cell_type": "code",
   "execution_count": null,
   "metadata": {},
   "outputs": [],
   "source": [
    "def splats(steps, minscale, maxscale, width, height, fills):\n",
    "  \"\"\"generate elliptical splats with random positions/sizes/fills\"\"\"\n",
    "  # TODO\n",
    "  return []\n",
    "\n",
    "code = splats(500, 0.03, 0.03, W, H, ['#DDD'])\n",
    "#code = splats(200, 0.03, 0.12, W, H, RGBCMY)\n",
    "\n",
    "#print(svg(code)) # enlever le commentaire pour voir le code SVG généré\n",
    "dp.SVG(svg(code)) # affichage du tracé au format SVG"
   ]
  },
  {
   "cell_type": "markdown",
   "metadata": {
    "tags": []
   },
   "source": [
    "<h2 style=\"padding:16px; color:white; background:#07D\">Exercice B2 - Génération de dégradés et de motifs</h2>\n",
    "\n",
    "A suivre..."
   ]
  },
  {
   "cell_type": "code",
   "execution_count": null,
   "metadata": {
    "tags": []
   },
   "outputs": [],
   "source": [
    "# TODO"
   ]
  },
  {
   "cell_type": "markdown",
   "metadata": {
    "tags": []
   },
   "source": [
    "<h2 style=\"padding:16px; color:white; background:#07D\">Exercice B3 - Pixel Art</h2>\n",
    "\n",
    "A suivre..."
   ]
  },
  {
   "cell_type": "markdown",
   "metadata": {},
   "source": [
    "---"
   ]
  }
 ],
 "metadata": {
  "kernelspec": {
   "display_name": "Python 3 (ipykernel)",
   "language": "python",
   "name": "python3"
  },
  "language_info": {
   "codemirror_mode": {
    "name": "ipython",
    "version": 3
   },
   "file_extension": ".py",
   "mimetype": "text/x-python",
   "name": "python",
   "nbconvert_exporter": "python",
   "pygments_lexer": "ipython3",
   "version": "3.9.6"
  }
 },
 "nbformat": 4,
 "nbformat_minor": 4
}
