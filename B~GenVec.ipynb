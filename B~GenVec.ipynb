{
 "cells": [
  {
   "cell_type": "markdown",
   "metadata": {},
   "source": [
    "<p style=\"color:white; background:#07D; padding:12px; font-size:20px; font-style:italic; text-align:center\">\n",
    "<span style=\"width:49%; display:inline-block; text-align:left\">Christophe Schlick</span>\n",
    "<span style=\"width:49%; display:inline-block; text-align:right\">schlick[at]u-bordeaux.fr</span>\n",
    "<span style=\"font-size:40px; font-style:normal\"><b>GENERATION DE TRACÉS</b></span><br>\n",
    "<span style=\"width:49%; display:inline-block; text-align:left\">Version 2023-01</span>\n",
    "<span style=\"width:49%; display:inline-block; text-align:right\">Licence CC-BY-NC-ND</span></p>"
   ]
  },
  {
   "cell_type": "markdown",
   "metadata": {},
   "source": [
    "L'objectif de cette feuille d'exercices est d'illustrer le principe de ***génération de tracés par algorithmes***. Dans le vocabulaire lié à l'imagerie numérique, un **tracé** est une image créée par un ensemble de commandes graphiques permettant de décrire une image par le biais d'un langage de description.\n",
    "On ne va donc pas définir l'image pixel par pixel (comme on l'a fait dans la feuille d'exercices A) mais fournir des informations de plus haut niveau permettant à un interpréteur de construire l'image en fonction de la liste des commandes. Pour ce type de construction, on utilise également le terme d'***image vectorielle*** par opposition à ***image matricielle*** (= la grille de pixels), mais le terme **tracé** (**draw** en anglais) s'impose de plus en plus, depuis quelques années.\n",
    "\n",
    "L'ensemble des exercices vont mettre en oeuvre l'utilisation du langage Python pour générer ces tracés via l'écriture de code au format **SVG** (***Scalable Vector Graphics***). Nous verrons les éléments nécessaires du format **SVG** au fur et à mesure des exercices, mais un petit détour par un [**tutoriel SVG**](https://developer.mozilla.org/fr/docs/Web/SVG/Tutorial) qui détaille plus longuement les notions abordées peut s'avérer très utile.\n",
    "\n",
    "---\n",
    "Dans le notebook **01-Jupyter.ipynb**, nous avons vu le principe qui sera mis en oeuvre dans cette feuille d'exercices :\n",
    "\n",
    "- On crée une chaîne de caractères multi-lignes contenant le code SVG du tracé à construire\n",
    "- On affiche le tracé correspondant via la fonction **`dp.SVG`** du module **`IPython.display`**\n",
    "\n",
    "Voici un rappel de l'exemple SVG présenté dans le notebook sur IPython :"
   ]
  },
  {
   "cell_type": "code",
   "execution_count": null,
   "metadata": {},
   "outputs": [],
   "source": [
    "import numpy as np # import du package 'numpy' avec alias 'np'\n",
    "import IPython.display as dp # import du package 'Ipython.display' avec alias 'dp'"
   ]
  },
  {
   "cell_type": "code",
   "execution_count": null,
   "metadata": {
    "tags": []
   },
   "outputs": [],
   "source": [
    "# On crée une chaîne de caractères multi-lignes contenant du code SVG\n",
    "code = \"\"\"\n",
    "<svg viewBox='0 0 750 250' xmlns='http://www.w3.org/2000/svg'>\n",
    "  <g fill='#EEE' stroke='#000' stroke-width='2'>\n",
    "    <rect x='25' y='25' width='700' height='200' rx='25' stroke-width='4'/>\n",
    "    <ellipse cx='100' cy='125' rx='50' ry='75' fill='#F00'/>\n",
    "    <ellipse cx='210' cy='125' rx='50' ry='75' fill='#0F0'/>\n",
    "    <ellipse cx='320' cy='125' rx='50' ry='75' fill='#00F'/>\n",
    "    <ellipse cx='430' cy='125' rx='50' ry='75' fill='#0FF'/>\n",
    "    <ellipse cx='540' cy='125' rx='50' ry='75' fill='#F0F'/>\n",
    "    <ellipse cx='650' cy='125' rx='50' ry='75' fill='#FF0'/>\n",
    "  </g>\n",
    "</svg>\n",
    "\"\"\"\n",
    "dp.SVG(code) # on affiche le tracé correspondant au code SVG via la fonction 'dp.SVG'"
   ]
  },
  {
   "cell_type": "markdown",
   "metadata": {},
   "source": [
    "Le code précédent est appelé **code SVG statique**, c'est-à-dire que les commandes SVG sont écrites avec des paramètres fixes et sont insérées dans une chaîne de caractère Python. Ce mécanisme fonctionne, mais  n'offre pas une grande flexibilité. Dans cette feuille d'exercices, nous allons au contraire générer du **code SVG dynamique** à l'aide de fonctions Python qui vont construire des commandes SVG en fonction des paramètres passés par l'utilisateur. Le principe général consiste à générer chaque commande SVG sous forme de chaînes de caractères et à les stocker dans une liste qui sera fusionnée puis insérée entre les balises **`<svg>`** et **`</svg>`** :"
   ]
  },
  {
   "cell_type": "code",
   "execution_count": null,
   "metadata": {},
   "outputs": [],
   "source": [
    "# fonction d'encapsulation de code SVG (taille viewbox = 640x320, mais affichage à 480 pixels de largeur)\n",
    "svg = lambda code: f\"\"\"\n",
    "<svg viewBox='0 0 640 320' width='480' xmlns='http://www.w3.org/2000/svg'>{''.join(code)}\\n</svg>\\n\"\"\"\n",
    "\n",
    "# fonction de tracé de rectangle avec remplissage de couleur uniforme\n",
    "rect = lambda x, y, w, h, fill: f\"\"\"\n",
    "  <rect x='{x:.2f}' y='{y:.2f}' width='{w:.2f}' height='{h:.2f}' fill='{fill}'/>\"\"\"\n",
    "\n",
    "# fonction de tracé de disque avec bordure noire et remplissage de couleur uniforme\n",
    "disk = lambda x, y, r, fill: f\"\"\"\n",
    "  <circle cx='{x:.2f}' cy='{y:.2f}' r='{r:.2f}' fill='{fill}' stroke='#000'/>\"\"\"\n",
    "\n",
    "# fonction de tracé d'ellipse avec bordure noire et remplissage de couleur uniforme\n",
    "oval = lambda x, y, rx, ry, fill: f\"\"\"\n",
    "  <ellipse cx='{x:.2f}' cy='{y:.2f}' rx='{rx:.2f}' ry='{ry:.2f}' fill='{fill}' stroke='#000'/>\"\"\"\n",
    "\n",
    "code = [ # le code est défini par une liste d'appels de fonctions, chacune retournant du code SVG\n",
    "  rect(0, 0, 640, 320, '#000'), rect(20, 20, 600, 280, '#FFF'),\n",
    "  disk(120, 160, 60, '#F00'), oval(320, 160, 100, 120, '#0F0'), disk(520, 160, 60, '#00F')\n",
    "]\n",
    "\n",
    "print(svg(code)) # affichage du code SVG généré\n",
    "#with open('test.svg','w') as file: print(svg(code), file=file) # sauvegarde du code dans un fichier SVG\n",
    "#dp.SVG(svg(code)) # affichage du tracé au format SVG\n",
    "#dp.display(dp.HTML(f\"<center>{dp.SVG(svg(code)).data}</center>\")) # idem avec centrage horizontal"
   ]
  },
  {
   "cell_type": "markdown",
   "metadata": {
    "tags": []
   },
   "source": [
    "<h2 style=\"padding:16px; color:white; background:#07D\">Exercice B1 - Utilisation des formes de base</h2>\n",
    "\n",
    "Ecrire les instructions Python/SVG permettant de générer les 12 images de la figure ci-dessous. Chaque image individuelle devra utiliser la balise SVG suivante, pour obtenir un tracé initial de taille 240 sur 240 (mais évidemment, comme c'est un tracé, on pourra le redimensionner de manière arbitraire) :\n",
    "\n",
    "**```<svg viewBox='0 0 240 240' width='240' xmlns='http://www.w3.org/2000/svg'>```**\n",
    "\n",
    "Vous aurez besoin des balises SVG suivantes :\n",
    "\n",
    "- **`<rect x=... y=... width=... height=... fill=... />`**\n",
    "- **`<circle cx=... cy=... r=... fill=... />`**\n",
    "- **`<ellipse cx=... cy=... rx=... ry=... fill=... />`**\n",
    "\n",
    "![](IMG/shapes.png 'shapes.png')"
   ]
  },
  {
   "cell_type": "code",
   "execution_count": null,
   "metadata": {},
   "outputs": [],
   "source": [
    "W, H = 240, 240 # définition de la taille des images à générer\n",
    "KW = '#000 #FFF'.split() # palette binaire (noir et blanc au format '#RGB')\n",
    "RGBCMY = '#F00 #0F0 #00F #0FF #F0F #FF0'.split() # palette de 6 couleurs (RGBCMY)\n",
    "\n",
    "# fonction d'encapsulation de code SVG (en définissant une taille d'image variable = width x height)\n",
    "svg = lambda code, width=W, height=H: f\"\"\"\n",
    "<svg viewBox='0 0 {width} {height}' width='{width}' xmlns='http://www.w3.org/2000/svg'>{''.join(code)}\n",
    "</svg>\\n\"\"\""
   ]
  },
  {
   "cell_type": "code",
   "execution_count": null,
   "metadata": {},
   "outputs": [],
   "source": [
    "def stripes(rows, width, height, fills):\n",
    "  \"\"\"generate horizontal stripes with alternating filling colors\"\"\"\n",
    "  # TODO\n",
    "  return []\n",
    "\n",
    "code = stripes(40, W, H, KW) # 40 lignes horizontales, alternance noir et blanc\n",
    "#code = stripes(40, W, H, RGBCMY) # 40 lignes horizontales, alternance RGBCMY\n",
    "\n",
    "def tiles(cols, rows, width, height, fills):\n",
    "  \"\"\"generate rectangular tiles with alternating filling colors\"\"\"\n",
    "  # TODO\n",
    "  return []\n",
    "\n",
    "#code = tiles(8, 8, W, H, KW)\n",
    "#code = tiles(8, 8, W, H, RGBCMY)\n",
    "\n",
    "def boxes(steps, width, height, fills):\n",
    "  \"\"\"generate concentric boxes with alternating filling colors\"\"\"\n",
    "  # TODO\n",
    "  return []\n",
    "\n",
    "#code = boxes(8, W, H, KW)\n",
    "#code = boxes(8, W, H, RGBCMY)\n",
    "\n",
    "#print(svg(code)) # enlever le commentaire pour voir le code SVG généré\n",
    "dp.SVG(svg(code)) # affichage du tracé au format SVG"
   ]
  },
  {
   "cell_type": "code",
   "execution_count": null,
   "metadata": {},
   "outputs": [],
   "source": [
    "def quincunx(cols, rows, width, height, fills, pad=2):\n",
    "  \"\"\"generate a quincunx pattern of disks with alternating filling colors\"\"\"\n",
    "  # TODO\n",
    "  return []\n",
    "\n",
    "code = quincunx(10, 6, W, H, ['#DDD'])\n",
    "#code = quincunx(10, 6, W, H, RGBCMY[:3])\n",
    "#code = quincunx(10, 6, W, H, RGBCMY[-3:], 0)\n",
    "\n",
    "#print(svg(code)) # enlever le commentaire pour voir le code SVG généré\n",
    "dp.SVG(svg(code)) # affichage du tracé au format SVG"
   ]
  },
  {
   "cell_type": "code",
   "execution_count": null,
   "metadata": {},
   "outputs": [],
   "source": [
    "def spiral(steps, width, height, fills):\n",
    "  \"\"\"create a spiral pattern of disks with alternating filling colors\"\"\"\n",
    "  # TODO\n",
    "  return []\n",
    "\n",
    "code = spiral(300, W, H, ['#DDD'])\n",
    "#code = spiral(300, W, H, KW)\n",
    "#code = spiral(300, W, H, RGBCMY)\n",
    "\n",
    "#print(svg(code)) # enlever le commentaire pour voir le code SVG généré\n",
    "dp.SVG(svg(code)) # affichage du tracé au format SVG"
   ]
  },
  {
   "cell_type": "code",
   "execution_count": null,
   "metadata": {},
   "outputs": [],
   "source": [
    "def splats(steps, minscale, maxscale, width, height, fills):\n",
    "  \"\"\"generate elliptical splats with random positions/sizes/fills\"\"\"\n",
    "  # TODO\n",
    "  return []\n",
    "\n",
    "code = splats(500, 0.03, 0.03, W, H, ['#DDD'])\n",
    "#code = splats(200, 0.03, 0.12, W, H, RGBCMY)\n",
    "\n",
    "#print(svg(code)) # enlever le commentaire pour voir le code SVG généré\n",
    "dp.SVG(svg(code)) # affichage du tracé au format SVG"
   ]
  },
  {
   "cell_type": "markdown",
   "metadata": {
    "tags": []
   },
   "source": [
    "<h2 style=\"padding:16px; color:white; background:#07D\">Exercice B2 - Dégradés, motifs et transformations</h2>\n",
    "\n",
    "Ecrire les instructions Python permettant de générer les images de la figure ci-dessous. En plus des balises SVG et des fonctions Python de l'exercice précédent, vous aurez également besoin des balises suivantes :\n",
    "\n",
    "- **`<linearGradient id=... x1=... y1=... x2=... y2=...> ... </linearGradient>`**\n",
    "- **`<radialGradient id=... cx=... cy=... r=...> ... </radialGradient>`**\n",
    "- **`<stop offset=... stop-color=... />`**\n",
    "- **`<pattern id=... width=... height=..> ... </pattern>`**\n",
    "\n",
    "![](IMG/gradients.png 'gradients.png')"
   ]
  },
  {
   "cell_type": "code",
   "execution_count": null,
   "metadata": {
    "tags": []
   },
   "outputs": [],
   "source": [
    "def lingrad(id, colors=('#000','#FFF'), box=(0,0,0,1)):\n",
    "  \"\"\"define a uniform linear color gradient on provided box\"\"\"\n",
    "  n = len(colors); x1, y1, x2, y2 = box\n",
    "  code = [f\"\\n<linearGradient id='{id}' x1='{x1}' y1='{y1}' x2='{x2}' y2='{y2}'>\"]\n",
    "  code += [f\"  <stop offset='{p/(n-1)}' stop-color='{c}'/>\" for p,c in enumerate(colors)]\n",
    "  code += ['</linearGradient>']; return '\\n'.join(code)\n",
    "\n",
    "code = []\n",
    "\n",
    "#print(svg(code)) # enlever le commentaire pour voir le code SVG généré\n",
    "dp.SVG(svg(code)) # affichage du tracé au format SVG"
   ]
  },
  {
   "cell_type": "code",
   "execution_count": null,
   "metadata": {
    "tags": []
   },
   "outputs": [],
   "source": [
    "def radgrad(id, colors=('#FFF','#000'), disk=(0.5,0.5,0.5)):\n",
    "  \"\"\"define a uniform radial color gradient on provided disk\"\"\"\n",
    "  n = len(colors); cx, cy, r = disk\n",
    "  code = [f\"\\n<radialGradient id='{id}' cx='{cx}' cy='{cy}' r='{r}'>\"]\n",
    "  code += [f\"  <stop offset='{p/(n-1)}' stop-color='{c}'/>\" for p,c in enumerate(colors)]\n",
    "  code += ['</radialGradient>']; return '\\n'.join(code)\n",
    "\n",
    "code = []\n",
    "\n",
    "#print(svg(code)) # enlever le commentaire pour voir le code SVG généré\n",
    "dp.SVG(svg(code)) # affichage du tracé au format SVG"
   ]
  },
  {
   "cell_type": "code",
   "execution_count": null,
   "metadata": {},
   "outputs": [],
   "source": [
    "# fonction de création d'un motif répété 'nx' fois en horizontal, 'ny' fois en vertical\n",
    "pattern = lambda id, code, nx=1, ny=1: f\"\"\"\n",
    "  <pattern id='{id}' width='{1/nx}' height='{1/ny}'>{''.join(code)}\n",
    "  </pattern>\"\"\"\n",
    "\n",
    "code = []\n",
    "\n",
    "#print(svg(code)) # enlever le commentaire pour voir le code SVG généré\n",
    "dp.SVG(svg(code)) # affichage du tracé au format SVG"
   ]
  },
  {
   "cell_type": "code",
   "execution_count": null,
   "metadata": {},
   "outputs": [],
   "source": [
    "# fonction de transformation affine pour une liste de commandes SVG\n",
    "transfo = lambda code, cx=0, cy=0, s=1, r=0, tx=0, ty=0: f\"\"\"\n",
    "  <g transform='translate({cx+tx},{cy+ty}) rotate({r}) scale({s}) translate({-cx},{-cy})'>{''.join(code)}\n",
    "  </g>\"\"\"\n",
    "\n",
    "code = []\n",
    "\n",
    "#print(svg(code)) # enlever le commentaire pour voir le code SVG généré\n",
    "dp.SVG(svg(code)) # affichage du tracé au format SVG"
   ]
  },
  {
   "cell_type": "markdown",
   "metadata": {
    "tags": []
   },
   "source": [
    "<h2 style=\"padding:16px; color:white; background:#07D\">Exercice B3 - Pixel Art</h2>\n",
    "\n",
    "L'utilisation combinée des images et des tracés permet de bénéficier des avantages respectifs des deux modèles, et d'obtenir des résultats qu'il serait très difficile de produire en se limitant à un modèle unique. A titre d'illustration, on cherche à écrire une fonction qui transforme une image quelconque en un tracé dans lequel chaque pixel est remplacé par un disque coloré. Pour augmenter la variété des effets visuels, on rajoute une perturbation aléatoire (distribution normale) pour la position des disques, ainsi que pour leur taille, comme illustré sur la figure ci-dessous :\n",
    "\n",
    "![](IMG/tiger.svg 'tiger.svg')"
   ]
  },
  {
   "cell_type": "code",
   "execution_count": null,
   "metadata": {},
   "outputs": [],
   "source": [
    "# TODO"
   ]
  },
  {
   "cell_type": "markdown",
   "metadata": {},
   "source": [
    "<h2 style=\"padding:0 0 8px; margin:0 -20px; color:#FFF; background:#07D; text-align:right\">● ● ●</h3>"
   ]
  }
 ],
 "metadata": {
  "kernelspec": {
   "display_name": "Python 3 (ipykernel)",
   "language": "python",
   "name": "python3"
  },
  "language_info": {
   "codemirror_mode": {
    "name": "ipython",
    "version": 3
   },
   "file_extension": ".py",
   "mimetype": "text/x-python",
   "name": "python",
   "nbconvert_exporter": "python",
   "pygments_lexer": "ipython3",
   "version": "3.12.4"
  }
 },
 "nbformat": 4,
 "nbformat_minor": 4
}
